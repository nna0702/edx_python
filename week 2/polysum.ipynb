{
 "cells": [
  {
   "cell_type": "markdown",
   "metadata": {},
   "source": [
    "A regular polygon has n number of sides. Each side has length s.\n",
    "\n",
    "The area of a regular polygon is:  0.25∗n∗s^2/(tan(π/n))\n",
    "The perimeter of a polygon is: length of the boundary of the polygon\n",
    "Write a function called polysum that takes 2 arguments, n and s. This function should sum the area and square of the perimeter of the regular polygon. The function returns the sum, rounded to 4 decimal places."
   ]
  },
  {
   "cell_type": "code",
   "execution_count": 1,
   "metadata": {
    "collapsed": true
   },
   "outputs": [],
   "source": [
    "# Import library to call the tan function and pi constant\n",
    "import math"
   ]
  },
  {
   "cell_type": "code",
   "execution_count": 2,
   "metadata": {},
   "outputs": [],
   "source": [
    "# Define function\n",
    "def polysum(n, s):\n",
    "    # Calculate area\n",
    "    area = 0.25*n*(s**2)/math.tan(math.pi/n)\n",
    "\n",
    "    # Calculat perimeter\n",
    "    per = n*s\n",
    "\n",
    "    #Calculate polysum\n",
    "    polysum = round(area + per**2, 4)\n",
    "\n",
    "    return(polysum)"
   ]
  },
  {
   "cell_type": "code",
   "execution_count": 3,
   "metadata": {},
   "outputs": [],
   "source": [
    "# import math\n",
    "# def polysum(n, s):\n",
    "#     # Calculate area\n",
    "#     area = 0.25*n*(s**2)/math.tan(math.pi/n)\n",
    "\n",
    "#     # Calculat perimeter\n",
    "#     per = n*s\n",
    "\n",
    "#     #Calculate polysum\n",
    "#     polysum = round(area + per**2, 4)\n",
    "\n",
    "#     return(polysum)"
   ]
  },
  {
   "cell_type": "code",
   "execution_count": 4,
   "metadata": {},
   "outputs": [
    {
     "data": {
      "text/plain": [
       "1309.3034"
      ]
     },
     "execution_count": 4,
     "metadata": {},
     "output_type": "execute_result"
    }
   ],
   "source": [
    "polysum(5, 7)"
   ]
  },
  {
   "cell_type": "code",
   "execution_count": null,
   "metadata": {
    "collapsed": true
   },
   "outputs": [],
   "source": []
  }
 ],
 "metadata": {
  "kernelspec": {
   "display_name": "Python 3",
   "language": "python",
   "name": "python3"
  },
  "language_info": {
   "codemirror_mode": {
    "name": "ipython",
    "version": 3
   },
   "file_extension": ".py",
   "mimetype": "text/x-python",
   "name": "python",
   "nbconvert_exporter": "python",
   "pygments_lexer": "ipython3",
   "version": "3.6.1"
  }
 },
 "nbformat": 4,
 "nbformat_minor": 2
}
