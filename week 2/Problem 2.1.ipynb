{
 "cells": [
  {
   "cell_type": "markdown",
   "metadata": {},
   "source": [
    "Write a program to calculate the credit card balance after one year if a person only pays the minimum monthly payment required by the credit card company each month.\n",
    "\n",
    "The following variables contain values as described below:\n",
    "\n",
    "balance - the outstanding balance on the credit card\n",
    "\n",
    "annualInterestRate - annual interest rate as a decimal\n",
    "\n",
    "monthlyPaymentRate - minimum monthly payment rate as a decimal"
   ]
  },
  {
   "cell_type": "code",
   "execution_count": 16,
   "metadata": {
    "collapsed": true
   },
   "outputs": [],
   "source": [
    "# Define variables\n",
    "balance = 42\n",
    "annualInterestRate = 0.2\n",
    "monthlyPaymentRate = 0.04"
   ]
  },
  {
   "cell_type": "code",
   "execution_count": 17,
   "metadata": {
    "collapsed": true
   },
   "outputs": [],
   "source": [
    "# Calculate monthly interest rate\n",
    "monthlyInterestRate = annualInterestRate / 12.0"
   ]
  },
  {
   "cell_type": "code",
   "execution_count": 18,
   "metadata": {},
   "outputs": [
    {
     "name": "stdout",
     "output_type": "stream",
     "text": [
      "Month  1  Remaining balance:  40.992\n",
      "Month  2  Remaining balance:  40.008192\n",
      "Month  3  Remaining balance:  39.047995392000004\n",
      "Month  4  Remaining balance:  38.110843502592004\n",
      "Month  5  Remaining balance:  37.19618325852979\n",
      "Month  6  Remaining balance:  36.30347486032508\n",
      "Month  7  Remaining balance:  35.43219146367728\n",
      "Month  8  Remaining balance:  34.58181886854903\n",
      "Month  9  Remaining balance:  33.751855215703856\n",
      "Month  10  Remaining balance:  32.94181069052696\n",
      "Month  11  Remaining balance:  32.15120723395431\n",
      "Month  12  Remaining balance:  31.379578260339404\n",
      "Remaining balance:  31.38\n"
     ]
    }
   ],
   "source": [
    "for i in range (1, 13):\n",
    "    payment = monthlyPaymentRate * balance\n",
    "    unpaid = balance - payment\n",
    "    balance = unpaid + monthlyInterestRate * unpaid\n",
    "    print(\"Month \", str(i), \" Remaining balance: \", str(balance))\n",
    "\n",
    "print(\"Remaining balance: \", str(round(balance, 2)))"
   ]
  },
  {
   "cell_type": "code",
   "execution_count": 19,
   "metadata": {
    "collapsed": true
   },
   "outputs": [],
   "source": [
    "# # Code to paste\n",
    "# monthlyInterestRate = annualInterestRate / 12.0\n",
    "# for i in range (1, 13):\n",
    "#     payment = monthlyPaymentRate * balance\n",
    "#     unpaid = balance - payment\n",
    "#     balance = unpaid + monthlyInterestRate * unpaid\n",
    "\n",
    "# print(\"Remaining balance: \", str(round(balance, 2)))"
   ]
  }
 ],
 "metadata": {
  "kernelspec": {
   "display_name": "Python 3",
   "language": "python",
   "name": "python3"
  },
  "language_info": {
   "codemirror_mode": {
    "name": "ipython",
    "version": 3
   },
   "file_extension": ".py",
   "mimetype": "text/x-python",
   "name": "python",
   "nbconvert_exporter": "python",
   "pygments_lexer": "ipython3",
   "version": "3.6.1"
  }
 },
 "nbformat": 4,
 "nbformat_minor": 2
}
