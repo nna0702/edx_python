{
 "cells": [
  {
   "cell_type": "markdown",
   "metadata": {},
   "source": [
    "Well then, how can we calculate a more accurate fixed monthly payment than we did in Problem 2 without running into the problem of slow code? We can make this program run faster using a technique introduced in lecture - bisection search!"
   ]
  },
  {
   "cell_type": "code",
   "execution_count": 1,
   "metadata": {
    "collapsed": true
   },
   "outputs": [],
   "source": [
    "# Define variables\n",
    "balance = 320000\n",
    "annualInterestRate = 0.2"
   ]
  },
  {
   "cell_type": "code",
   "execution_count": 2,
   "metadata": {
    "collapsed": true
   },
   "outputs": [],
   "source": [
    "# Define additional variables\n",
    "\n",
    "# Monthly interest rate\n",
    "monthInterestRate = annualInterestRate / 12.0\n",
    "\n",
    "# Balance to be paid off by the end of the year\n",
    "finalBalance = balance * (1 + monthInterestRate)**12\n",
    "\n",
    "# Factor added to payment\n",
    "factor = 1 + monthInterestRate\n",
    "\n",
    "# Compounded interest rate on the fixed monthly payment\n",
    "compound = 0\n",
    "for i in range(1, 13):\n",
    "    compound = compound + factor**i"
   ]
  },
  {
   "cell_type": "code",
   "execution_count": 3,
   "metadata": {
    "collapsed": true
   },
   "outputs": [],
   "source": [
    "# Define initial bounds for bisection search\n",
    "lower = balance / 12.0\n",
    "upper = finalBalance / 12.0\n",
    "epsilon = 0.01"
   ]
  },
  {
   "cell_type": "code",
   "execution_count": 4,
   "metadata": {
    "collapsed": true
   },
   "outputs": [],
   "source": [
    "def payment(finalBalance, lower, upper):\n",
    "    ans = (lower + upper) / 2.0\n",
    "    if abs(ans * compound - finalBalance) <= epsilon:\n",
    "        return ans\n",
    "    elif (ans * compound - finalBalance) < -epsilon:\n",
    "        return payment(finalBalance, ans, upper)\n",
    "    else:\n",
    "        return payment(finalBalance, lower, ans)"
   ]
  },
  {
   "cell_type": "code",
   "execution_count": 5,
   "metadata": {
    "scrolled": true
   },
   "outputs": [
    {
     "name": "stdout",
     "output_type": "stream",
     "text": [
      "Lowest Payment:  29157.09\n"
     ]
    }
   ],
   "source": [
    "result = payment(finalBalance, lower, upper)\n",
    "print(\"Lowest Payment: \", str(round(result, 2)))"
   ]
  }
 ],
 "metadata": {
  "kernelspec": {
   "display_name": "Python 3",
   "language": "python",
   "name": "python3"
  },
  "language_info": {
   "codemirror_mode": {
    "name": "ipython",
    "version": 3
   },
   "file_extension": ".py",
   "mimetype": "text/x-python",
   "name": "python",
   "nbconvert_exporter": "python",
   "pygments_lexer": "ipython3",
   "version": "3.6.1"
  }
 },
 "nbformat": 4,
 "nbformat_minor": 2
}
