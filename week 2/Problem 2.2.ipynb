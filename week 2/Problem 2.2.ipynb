{
 "cells": [
  {
   "cell_type": "markdown",
   "metadata": {},
   "source": [
    "Now write a program that calculates the minimum fixed monthly payment needed in order pay off a credit card balance within 12 months. By a fixed monthly payment, we mean a single number which does not change each month, but instead is a constant amount that will be paid each month.\n",
    "\n",
    "In this problem, we will not be dealing with a minimum monthly payment rate.\n",
    "\n",
    "The following variables contain values as described below:\n",
    "\n",
    "balance - the outstanding balance on the credit card\n",
    "\n",
    "annualInterestRate - annual interest rate as a decimal"
   ]
  },
  {
   "cell_type": "code",
   "execution_count": 1,
   "metadata": {
    "collapsed": true
   },
   "outputs": [],
   "source": [
    "# Define variables\n",
    "balance = 3926\n",
    "annualInterestRate = 0.2"
   ]
  },
  {
   "cell_type": "code",
   "execution_count": 2,
   "metadata": {
    "collapsed": true
   },
   "outputs": [],
   "source": [
    "# Find lowest payment required\n",
    "def payment(balance, annualInterestRate):\n",
    "    R = 1 + annualInterestRate / 12.0\n",
    "    total = 0\n",
    "    for i in range (1, 13):\n",
    "        total = total + R**i\n",
    "        \n",
    "    fixed = balance * (R**12)/total\n",
    "    return fixed"
   ]
  },
  {
   "cell_type": "code",
   "execution_count": 15,
   "metadata": {
    "collapsed": true
   },
   "outputs": [],
   "source": [
    "# Round result to multiple of 10\n",
    "def multiple(x):\n",
    "    if x%10 == 0:\n",
    "        x = x\n",
    "    else:\n",
    "        x = (x // 10 + 1) * 10\n",
    "    return x"
   ]
  },
  {
   "cell_type": "code",
   "execution_count": 13,
   "metadata": {},
   "outputs": [
    {
     "name": "stdout",
     "output_type": "stream",
     "text": [
      "Lowest Payment:  360\n"
     ]
    }
   ],
   "source": [
    "# Print result\n",
    "result = int(multiple(payment(balance, annualInterestRate)))\n",
    "print(\"Lowest Payment: \", str(result))"
   ]
  }
 ],
 "metadata": {
  "kernelspec": {
   "display_name": "Python 3",
   "language": "python",
   "name": "python3"
  },
  "language_info": {
   "codemirror_mode": {
    "name": "ipython",
    "version": 3
   },
   "file_extension": ".py",
   "mimetype": "text/x-python",
   "name": "python",
   "nbconvert_exporter": "python",
   "pygments_lexer": "ipython3",
   "version": "3.6.1"
  }
 },
 "nbformat": 4,
 "nbformat_minor": 2
}
