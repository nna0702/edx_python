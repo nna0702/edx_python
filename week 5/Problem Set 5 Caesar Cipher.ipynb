{
 "cells": [
  {
   "cell_type": "code",
   "execution_count": 1,
   "metadata": {
    "collapsed": true
   },
   "outputs": [],
   "source": [
    "import string"
   ]
  },
  {
   "cell_type": "code",
   "execution_count": 2,
   "metadata": {
    "collapsed": true
   },
   "outputs": [],
   "source": [
    "def load_words(file_name):\n",
    "    '''\n",
    "    file_name (string): the name of the file containing \n",
    "    the list of words to load    \n",
    "    \n",
    "    Returns: a list of valid words. Words are strings of lowercase letters.\n",
    "    \n",
    "    Depending on the size of the word list, this function may\n",
    "    take a while to finish.\n",
    "    '''\n",
    "    print('Loading word list from file...')\n",
    "    # inFile: file\n",
    "    in_file = open(file_name, 'r')\n",
    "    # line: string\n",
    "    line = in_file.readline()\n",
    "    # word_list: list of strings\n",
    "    word_list = line.split()\n",
    "    print('  ', len(word_list), 'words loaded.')\n",
    "    in_file.close()\n",
    "    return word_list"
   ]
  },
  {
   "cell_type": "code",
   "execution_count": 3,
   "metadata": {
    "collapsed": true
   },
   "outputs": [],
   "source": [
    "def is_word(word_list, word):\n",
    "    '''\n",
    "    Determines if word is a valid word, ignoring\n",
    "    capitalization and punctuation\n",
    "\n",
    "    word_list (list): list of words in the dictionary.\n",
    "    word (string): a possible word.\n",
    "    \n",
    "    Returns: True if word is in word_list, False otherwise\n",
    "\n",
    "    Example:\n",
    "    >>> is_word(word_list, 'bat') returns\n",
    "    True\n",
    "    >>> is_word(word_list, 'asdf') returns\n",
    "    False\n",
    "    '''\n",
    "    word = word.lower()\n",
    "    word = word.strip(\" !@#$%^&*()-_+={}[]|\\:;'<>?,./\\\"\")\n",
    "    return word in word_list"
   ]
  },
  {
   "cell_type": "code",
   "execution_count": 4,
   "metadata": {
    "collapsed": true
   },
   "outputs": [],
   "source": [
    "def get_story_string():\n",
    "    \"\"\"\n",
    "    Returns: a joke in encrypted text.\n",
    "    \"\"\"\n",
    "    f = open(\"story.txt\", \"r\")\n",
    "    story = str(f.read())\n",
    "    f.close()\n",
    "    return story"
   ]
  },
  {
   "cell_type": "code",
   "execution_count": 5,
   "metadata": {
    "collapsed": true
   },
   "outputs": [],
   "source": [
    "WORDLIST_FILENAME = 'words.txt'"
   ]
  },
  {
   "cell_type": "markdown",
   "metadata": {},
   "source": [
    "# Build the shift dictionary and apply shift"
   ]
  },
  {
   "cell_type": "code",
   "execution_count": 6,
   "metadata": {
    "collapsed": true
   },
   "outputs": [],
   "source": [
    "class Message(object):\n",
    "    ### DO NOT MODIFY THIS METHOD ###\n",
    "    def __init__(self, text):\n",
    "        '''\n",
    "        Initializes a Message object\n",
    "                \n",
    "        text (string): the message's text\n",
    "\n",
    "        a Message object has two attributes:\n",
    "            self.message_text (string, determined by input text)\n",
    "            self.valid_words (list, determined using helper function load_words\n",
    "        '''\n",
    "        self.message_text = text\n",
    "        self.valid_words = load_words(WORDLIST_FILENAME)\n",
    "\n",
    "    ### DO NOT MODIFY THIS METHOD ###\n",
    "    def get_message_text(self):\n",
    "        '''\n",
    "        Used to safely access self.message_text outside of the class\n",
    "        \n",
    "        Returns: self.message_text\n",
    "        '''\n",
    "        return self.message_text\n",
    "\n",
    "    ### DO NOT MODIFY THIS METHOD ###\n",
    "    def get_valid_words(self):\n",
    "        '''\n",
    "        Used to safely access a copy of self.valid_words outside of the class\n",
    "        \n",
    "        Returns: a COPY of self.valid_words\n",
    "        '''\n",
    "        return self.valid_words[:]\n",
    "        \n",
    "    def build_shift_dict(self, shift):\n",
    "        '''\n",
    "        Creates a dictionary that can be used to apply a cipher to a letter.\n",
    "        The dictionary maps every uppercase and lowercase letter to a\n",
    "        character shifted down the alphabet by the input shift. The dictionary\n",
    "        should have 52 keys of all the uppercase letters and all the lowercase\n",
    "        letters only.        \n",
    "        \n",
    "        shift (integer): the amount by which to shift every letter of the \n",
    "        alphabet. 0 <= shift < 26\n",
    "\n",
    "        Returns: a dictionary mapping a letter (string) to \n",
    "                 another letter (string). \n",
    "        '''\n",
    "        # Create lists of letters\n",
    "        lower = list(string.ascii_lowercase)\n",
    "        upper = list(string.ascii_uppercase)\n",
    "        \n",
    "        dictionary = {}\n",
    "        \n",
    "        # Transform lower case letters\n",
    "        for i in range(26):\n",
    "            dictionary[lower[i]] = lower[(i + shift) % 26]\n",
    "            \n",
    "        # Transform upper case leters\n",
    "        for i in range(26):\n",
    "            dictionary[upper[i]] = upper[(i + shift) % 26]\n",
    "            \n",
    "        return dictionary\n",
    "        \n",
    "    def apply_shift(self, shift):\n",
    "        '''\n",
    "        Applies the Caesar Cipher to self.message_text with the input shift.\n",
    "        Creates a new string that is self.message_text shifted down the\n",
    "        alphabet by some number of characters determined by the input shift        \n",
    "        \n",
    "        shift (integer): the shift with which to encrypt the message.\n",
    "        0 <= shift < 26\n",
    "\n",
    "        Returns: the message text (string) in which every character is shifted\n",
    "             down the alphabet by the input shift\n",
    "        '''\n",
    "        self.message_text_list = list(self.message_text)\n",
    "        self.message_new_text = []\n",
    "        special = list(string.punctuation) + [' '] + list(string.digits)\n",
    "        dictionary = self.build_shift_dict(shift)\n",
    "        \n",
    "        # Shift the text\n",
    "        for j in self.message_text_list:\n",
    "            if j in special:\n",
    "                self.message_new_text = self.message_new_text + [j]\n",
    "            else:\n",
    "                self.message_new_text = self.message_new_text + [dictionary[j]]\n",
    "                \n",
    "        # Return the string\n",
    "        self.message_new_text = ''.join(self.message_new_text)\n",
    "        return self.message_new_text"
   ]
  },
  {
   "cell_type": "code",
   "execution_count": 7,
   "metadata": {},
   "outputs": [
    {
     "name": "stdout",
     "output_type": "stream",
     "text": [
      "Loading word list from file...\n",
      "   55901 words loaded.\n",
      "{'a': 'f', 'b': 'g', 'c': 'h', 'd': 'i', 'e': 'j', 'f': 'k', 'g': 'l', 'h': 'm', 'i': 'n', 'j': 'o', 'k': 'p', 'l': 'q', 'm': 'r', 'n': 's', 'o': 't', 'p': 'u', 'q': 'v', 'r': 'w', 's': 'x', 't': 'y', 'u': 'z', 'v': 'a', 'w': 'b', 'x': 'c', 'y': 'd', 'z': 'e', 'A': 'F', 'B': 'G', 'C': 'H', 'D': 'I', 'E': 'J', 'F': 'K', 'G': 'L', 'H': 'M', 'I': 'N', 'J': 'O', 'K': 'P', 'L': 'Q', 'M': 'R', 'N': 'S', 'O': 'T', 'P': 'U', 'Q': 'V', 'R': 'W', 'S': 'X', 'T': 'Y', 'U': 'Z', 'V': 'A', 'W': 'B', 'X': 'C', 'Y': 'D', 'Z': 'E'}\n",
      "Mjqqt Btwqi!\n"
     ]
    }
   ],
   "source": [
    "# Create a message\n",
    "m = Message('Hello World!')\n",
    "\n",
    "# Build the dictionary with shifted keys\n",
    "print(m.build_shift_dict(5))\n",
    "\n",
    "# Encrypt the message\n",
    "print(m.apply_shift(5))"
   ]
  },
  {
   "cell_type": "markdown",
   "metadata": {},
   "source": [
    "# PlaintextMessage"
   ]
  },
  {
   "cell_type": "code",
   "execution_count": 8,
   "metadata": {
    "collapsed": true
   },
   "outputs": [],
   "source": [
    "class PlaintextMessage(Message):\n",
    "    def __init__(self, text, shift):\n",
    "        '''\n",
    "        Initializes a PlaintextMessage object        \n",
    "        \n",
    "        text (string): the message's text\n",
    "        shift (integer): the shift associated with this message\n",
    "\n",
    "        A PlaintextMessage object inherits from Message and has five attributes:\n",
    "            self.message_text (string, determined by input text)\n",
    "            self.valid_words (list, determined using helper function load_words)\n",
    "            self.shift (integer, determined by input shift)\n",
    "            self.encrypting_dict (dictionary, built using shift)\n",
    "            self.message_text_encrypted (string, created using shift)\n",
    "\n",
    "        Hint: consider using the parent class constructor so less \n",
    "        code is repeated\n",
    "        '''\n",
    "        self.message_text = text\n",
    "        self.valid_words = load_words(WORDLIST_FILENAME)\n",
    "        self.shift = shift\n",
    "        self.encrypting_dict = self.build_shift_dict(shift)\n",
    "        self.message_text_encrypted = self.apply_shift(shift)\n",
    "\n",
    "    def get_shift(self):\n",
    "        '''\n",
    "        Used to safely access self.shift outside of the class\n",
    "        \n",
    "        Returns: self.shift\n",
    "        '''\n",
    "        return self.shift\n",
    "\n",
    "    def get_encrypting_dict(self):\n",
    "        '''\n",
    "        Used to safely access a copy self.encrypting_dict outside of the class\n",
    "        \n",
    "        Returns: a COPY of self.encrypting_dict\n",
    "        '''\n",
    "        self.encrypting_dict_copy = self.encrypting_dict.copy()\n",
    "        return self.encrypting_dict_copy\n",
    "\n",
    "    def get_message_text_encrypted(self):\n",
    "        '''\n",
    "        Used to safely access self.message_text_encrypted outside of the class\n",
    "        \n",
    "        Returns: self.message_text_encrypted\n",
    "        '''\n",
    "        return self.message_text_encrypted\n",
    "\n",
    "    def change_shift(self, shift):\n",
    "        '''\n",
    "        Changes self.shift of the PlaintextMessage and updates other \n",
    "        attributes determined by shift (ie. self.encrypting_dict and \n",
    "        message_text_encrypted).\n",
    "        \n",
    "        shift (integer): the new shift that should be associated with this message.\n",
    "        0 <= shift < 26\n",
    "\n",
    "        Returns: nothing\n",
    "        '''\n",
    "        # Change self.shift of the message\n",
    "        self.shift = shift\n",
    "        \n",
    "        # Update other attributes determined by shift\n",
    "        self.encrypting_dict = self.build_shift_dict(shift)\n",
    "        self.message_text_encrypted = self.apply_shift(shift)"
   ]
  },
  {
   "cell_type": "markdown",
   "metadata": {},
   "source": [
    "# CiphertextMessage"
   ]
  },
  {
   "cell_type": "code",
   "execution_count": 9,
   "metadata": {},
   "outputs": [],
   "source": [
    "class CiphertextMessage(Message):\n",
    "    def __init__(self, text):\n",
    "        '''\n",
    "        Initializes a CiphertextMessage object\n",
    "                \n",
    "        text (string): the message's text\n",
    "\n",
    "        a CiphertextMessage object has two attributes:\n",
    "            self.message_text (string, determined by input text)\n",
    "            self.valid_words (list, determined using helper function load_words)\n",
    "        '''\n",
    "        self.message_text = text\n",
    "        self.valid_words = load_words(WORDLIST_FILENAME)\n",
    "\n",
    "    def decrypt_message(self):\n",
    "        '''\n",
    "        Decrypt self.message_text by trying every possible shift value\n",
    "        and find the \"best\" one. We will define \"best\" as the shift that\n",
    "        creates the maximum number of real words when we use apply_shift(shift)\n",
    "        on the message text. If s is the original shift value used to encrypt\n",
    "        the message, then we would expect 26 - s to be the best shift value \n",
    "        for decrypting it.\n",
    "\n",
    "        Note: if multiple shifts are  equally good such that they all create \n",
    "        the maximum number of you may choose any of those shifts (and their\n",
    "        corresponding decrypted messages) to return\n",
    "\n",
    "        Returns: a tuple of the best shift value used to decrypt the message\n",
    "        and the decrypted message text using that shift value\n",
    "        '''\n",
    "        # Create a list that counts the number of valid words\n",
    "        count = []\n",
    "        \n",
    "        # Check the valid words for each possible value of shift\n",
    "        for s in range(26):\n",
    "            decrypted_text = self.apply_shift(26-s)\n",
    "            decrypted_text_list = decrypted_text.split(' ')\n",
    "            count.append(len([i for i in decrypted_text_list if is_word(self.valid_words, i)]))\n",
    "\n",
    "        best_shift = 26 - count.index(max(count))\n",
    "        if best_shift == 26:\n",
    "            best_shift = 0\n",
    "        \n",
    "        decrypted_text = self.apply_shift(best_shift)\n",
    "        result = (best_shift, decrypted_text)\n",
    "\n",
    "        return result\n",
    "    \n",
    "    def decrypt_story():\n",
    "        '''\n",
    "        Decrypt a story from get_story_string()\n",
    "        \n",
    "        Returns the decrypted message\n",
    "        '''\n",
    "        return CiphertextMessage(get_story_string()).decrypt_message()"
   ]
  },
  {
   "cell_type": "code",
   "execution_count": 10,
   "metadata": {},
   "outputs": [
    {
     "name": "stdout",
     "output_type": "stream",
     "text": [
      "Loading word list from file...\n",
      "   55901 words loaded.\n",
      "Expected Output: jgnnq\n",
      "Actual Output: jgnnq\n",
      "Loading word list from file...\n",
      "   55901 words loaded.\n",
      "Expected Output: (24, 'hello')\n",
      "Actual Output: (24, 'hello')\n"
     ]
    }
   ],
   "source": [
    "#Example test case (PlaintextMessage)\n",
    "plaintext = PlaintextMessage('hello', 2)\n",
    "print('Expected Output: jgnnq')\n",
    "print('Actual Output:', plaintext.get_message_text_encrypted())\n",
    "    \n",
    "#Example test case (CiphertextMessage)\n",
    "ciphertext = CiphertextMessage('jgnnq')\n",
    "print('Expected Output:', (24, 'hello'))\n",
    "print('Actual Output:', ciphertext.decrypt_message())"
   ]
  }
 ],
 "metadata": {
  "kernelspec": {
   "display_name": "Python 3",
   "language": "python",
   "name": "python3"
  },
  "language_info": {
   "codemirror_mode": {
    "name": "ipython",
    "version": 3
   },
   "file_extension": ".py",
   "mimetype": "text/x-python",
   "name": "python",
   "nbconvert_exporter": "python",
   "pygments_lexer": "ipython3",
   "version": "3.6.1"
  }
 },
 "nbformat": 4,
 "nbformat_minor": 2
}
