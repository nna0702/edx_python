{
 "cells": [
  {
   "cell_type": "markdown",
   "metadata": {},
   "source": [
    "We want to write some simple procedures that work on dictionaries to return information.\n",
    "\n",
    "This time, write a procedure, called biggest, which returns the key corresponding to the entry with the largest number of values associated with it. If there is more than one such entry, return any one of the matching keys.\n",
    "\n",
    "Consider three ways of creating the algorithm and compare the speed."
   ]
  },
  {
   "cell_type": "code",
   "execution_count": 1,
   "metadata": {
    "collapsed": true
   },
   "outputs": [],
   "source": [
    "# Define the strings\n",
    "animals = {}\n",
    "n = 10000\n",
    "for i in range(1, 1 + n):\n",
    "    animals[str(i)] = [1]\n",
    "    \n",
    "animals[str(n)] = [1, 2]"
   ]
  },
  {
   "cell_type": "markdown",
   "metadata": {},
   "source": [
    "# Define algorithms"
   ]
  },
  {
   "cell_type": "code",
   "execution_count": 2,
   "metadata": {
    "collapsed": true
   },
   "outputs": [],
   "source": [
    "# Slow\n",
    "def biggest(aDict):\n",
    "    '''\n",
    "    aDict: A dictionary, where all the values are lists.\n",
    "\n",
    "    returns: The key with the largest number of values associated with it\n",
    "    '''\n",
    "    \n",
    "    aDict_copy = aDict.copy() # n * something\n",
    "    \n",
    "    if aDict.values() == {}:\n",
    "        return None\n",
    "    \n",
    "    else:\n",
    "    \n",
    "        # n times\n",
    "        for i in aDict_copy.keys():\n",
    "            aDict_copy[i] = len(aDict_copy[i])\n",
    "    \n",
    "        # n times\n",
    "        for key, time in aDict_copy.items():\n",
    "            # each max takes n\n",
    "            if time == max(aDict_copy.values()):\n",
    "                return key"
   ]
  },
  {
   "cell_type": "code",
   "execution_count": 3,
   "metadata": {
    "collapsed": true
   },
   "outputs": [],
   "source": [
    "# Average\n",
    "def biggest_quick(aDict):\n",
    "    '''\n",
    "    aDict: A dictionary, where all the values are lists.\n",
    "\n",
    "    returns: The key with the largest number of values associated with it\n",
    "    '''\n",
    "    \n",
    "    aDict_copy = aDict.copy() # n * something\n",
    "    \n",
    "    if aDict.values() == {}:\n",
    "        return None\n",
    "    \n",
    "    else:\n",
    "    \n",
    "        # n times\n",
    "        for i in aDict_copy.keys():\n",
    "            aDict_copy[i] = len(aDict_copy[i])\n",
    "        \n",
    "        benchmark = max(aDict_copy.values())\n",
    "        \n",
    "        # n times\n",
    "        for key, time in aDict_copy.items():\n",
    "            # each max takes n\n",
    "            if time == benchmark:\n",
    "                return key"
   ]
  },
  {
   "cell_type": "code",
   "execution_count": 4,
   "metadata": {
    "collapsed": true
   },
   "outputs": [],
   "source": [
    "# Quicker\n",
    "def biggest_quicker(aDict):\n",
    "    '''\n",
    "    aDict: A dictionary, where all the values are lists.\n",
    "\n",
    "    returns: The key with the largest number of values associated with it\n",
    "    '''\n",
    "    \n",
    "    \n",
    "    if aDict.values() == {}:\n",
    "        return None\n",
    "    \n",
    "    else:\n",
    "        result = None\n",
    "        max_length_so_far = -1\n",
    "        for key, value in aDict.items():\n",
    "            if len(value) > max_length_so_far:\n",
    "                result = key\n",
    "                max_length_so_far = len(value)\n",
    "        return result"
   ]
  },
  {
   "cell_type": "markdown",
   "metadata": {},
   "source": [
    "# Test how algorithms perform"
   ]
  },
  {
   "cell_type": "code",
   "execution_count": 5,
   "metadata": {},
   "outputs": [
    {
     "name": "stdout",
     "output_type": "stream",
     "text": [
      "Wall time: 1.9 s\n"
     ]
    },
    {
     "data": {
      "text/plain": [
       "'10000'"
      ]
     },
     "execution_count": 5,
     "metadata": {},
     "output_type": "execute_result"
    }
   ],
   "source": [
    "%%time\n",
    "biggest(animals)"
   ]
  },
  {
   "cell_type": "code",
   "execution_count": 6,
   "metadata": {},
   "outputs": [
    {
     "name": "stdout",
     "output_type": "stream",
     "text": [
      "Wall time: 3 ms\n"
     ]
    },
    {
     "data": {
      "text/plain": [
       "'10000'"
      ]
     },
     "execution_count": 6,
     "metadata": {},
     "output_type": "execute_result"
    }
   ],
   "source": [
    "%%time\n",
    "biggest_quick(animals)"
   ]
  },
  {
   "cell_type": "code",
   "execution_count": 7,
   "metadata": {},
   "outputs": [
    {
     "name": "stdout",
     "output_type": "stream",
     "text": [
      "Wall time: 1 ms\n"
     ]
    },
    {
     "data": {
      "text/plain": [
       "'10000'"
      ]
     },
     "execution_count": 7,
     "metadata": {},
     "output_type": "execute_result"
    }
   ],
   "source": [
    "%%time\n",
    "biggest_quicker(animals)"
   ]
  }
 ],
 "metadata": {
  "kernelspec": {
   "display_name": "Python 3",
   "language": "python",
   "name": "python3"
  },
  "language_info": {
   "codemirror_mode": {
    "name": "ipython",
    "version": 3
   },
   "file_extension": ".py",
   "mimetype": "text/x-python",
   "name": "python",
   "nbconvert_exporter": "python",
   "pygments_lexer": "ipython3",
   "version": "3.6.1"
  }
 },
 "nbformat": 4,
 "nbformat_minor": 2
}
