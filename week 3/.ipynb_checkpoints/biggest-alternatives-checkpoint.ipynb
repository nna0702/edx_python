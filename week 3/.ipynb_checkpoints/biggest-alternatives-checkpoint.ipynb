{
 "cells": [
  {
   "cell_type": "markdown",
   "metadata": {},
   "source": [
    "We want to write some simple procedures that work on dictionaries to return information.\n",
    "\n",
    "This time, write a procedure, called biggest, which returns the key corresponding to the entry with the largest number of values associated with it. If there is more than one such entry, return any one of the matching keys."
   ]
  },
  {
   "cell_type": "code",
   "execution_count": 1,
   "metadata": {
    "collapsed": true
   },
   "outputs": [],
   "source": [
    "animals = { 'a': ['aardvark'], 'b': ['baboon'], 'c': ['coati']}\n",
    "\n",
    "animals['d'] = ['donkey']\n",
    "animals['d'].append('dog')\n",
    "animals['d'].append('dingo')"
   ]
  },
  {
   "cell_type": "code",
   "execution_count": 26,
   "metadata": {},
   "outputs": [],
   "source": [
    "animals = {}\n",
    "n = 10000\n",
    "for i in range(1, 1 + n):\n",
    "    animals[str(i)] = [1]\n",
    "    \n",
    "animals[str(n)] = [1, 2]"
   ]
  },
  {
   "cell_type": "code",
   "execution_count": 27,
   "metadata": {
    "collapsed": true
   },
   "outputs": [],
   "source": [
    "def biggest(aDict):\n",
    "    '''\n",
    "    aDict: A dictionary, where all the values are lists.\n",
    "\n",
    "    returns: The key with the largest number of values associated with it\n",
    "    '''\n",
    "    \n",
    "    aDict_copy = aDict.copy() # n * something\n",
    "    \n",
    "    if aDict.values() == {}:\n",
    "        return None\n",
    "    \n",
    "    else:\n",
    "    \n",
    "        # n times\n",
    "        for i in aDict_copy.keys():\n",
    "            aDict_copy[i] = len(aDict_copy[i])\n",
    "    \n",
    "        # n times\n",
    "        for key, time in aDict_copy.items():\n",
    "            # each max takes n\n",
    "            if time == max(aDict_copy.values()):\n",
    "                return key"
   ]
  },
  {
   "cell_type": "code",
   "execution_count": null,
   "metadata": {
    "collapsed": true
   },
   "outputs": [],
   "source": []
  },
  {
   "cell_type": "code",
   "execution_count": 28,
   "metadata": {},
   "outputs": [
    {
     "name": "stdout",
     "output_type": "stream",
     "text": [
      "Wall time: 1.93 s\n"
     ]
    },
    {
     "data": {
      "text/plain": [
       "'10000'"
      ]
     },
     "execution_count": 28,
     "metadata": {},
     "output_type": "execute_result"
    }
   ],
   "source": [
    "%%time\n",
    "biggest(animals)"
   ]
  },
  {
   "cell_type": "code",
   "execution_count": 29,
   "metadata": {
    "collapsed": true
   },
   "outputs": [],
   "source": [
    "def biggest_quick(aDict):\n",
    "    '''\n",
    "    aDict: A dictionary, where all the values are lists.\n",
    "\n",
    "    returns: The key with the largest number of values associated with it\n",
    "    '''\n",
    "    \n",
    "    aDict_copy = aDict.copy() # n * something\n",
    "    \n",
    "    if aDict.values() == {}:\n",
    "        return None\n",
    "    \n",
    "    else:\n",
    "    \n",
    "        # n times\n",
    "        for i in aDict_copy.keys():\n",
    "            aDict_copy[i] = len(aDict_copy[i])\n",
    "        \n",
    "        benchmark = max(aDict_copy.values())\n",
    "        \n",
    "        # n times\n",
    "        for key, time in aDict_copy.items():\n",
    "            # each max takes n\n",
    "            if time == benchmark:\n",
    "                return key"
   ]
  },
  {
   "cell_type": "code",
   "execution_count": 30,
   "metadata": {},
   "outputs": [
    {
     "name": "stdout",
     "output_type": "stream",
     "text": [
      "Wall time: 4 ms\n"
     ]
    },
    {
     "data": {
      "text/plain": [
       "'10000'"
      ]
     },
     "execution_count": 30,
     "metadata": {},
     "output_type": "execute_result"
    }
   ],
   "source": [
    "%%time\n",
    "biggest_quick(animals)"
   ]
  },
  {
   "cell_type": "code",
   "execution_count": null,
   "metadata": {
    "collapsed": true
   },
   "outputs": [],
   "source": [
    "def biggest_quick(aDict):\n",
    "    '''\n",
    "    aDict: A dictionary, where all the values are lists.\n",
    "\n",
    "    returns: The key with the largest number of values associated with it\n",
    "    '''\n",
    "    \n",
    "    \n",
    "    if aDict.values() == {}:\n",
    "        return None\n",
    "    \n",
    "    else:\n",
    "        result = None\n",
    "        max_length_so_far = -1\n",
    "        for key, value in aDict.items():\n",
    "            if len(value) > max_length_so_far:\n",
    "                result = key\n",
    "                max_length_so_far = len(value)\n",
    "        return result"
   ]
  }
 ],
 "metadata": {
  "kernelspec": {
   "display_name": "Python 3",
   "language": "python",
   "name": "python3"
  },
  "language_info": {
   "codemirror_mode": {
    "name": "ipython",
    "version": 3
   },
   "file_extension": ".py",
   "mimetype": "text/x-python",
   "name": "python",
   "nbconvert_exporter": "python",
   "pygments_lexer": "ipython3",
   "version": "3.6.1"
  }
 },
 "nbformat": 4,
 "nbformat_minor": 2
}
