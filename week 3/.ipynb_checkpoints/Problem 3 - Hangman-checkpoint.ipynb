{
 "cells": [
  {
   "cell_type": "code",
   "execution_count": 1,
   "metadata": {
    "collapsed": true
   },
   "outputs": [],
   "source": [
    "# Import library(ies):\n",
    "import random"
   ]
  },
  {
   "cell_type": "code",
   "execution_count": 2,
   "metadata": {
    "collapsed": true
   },
   "outputs": [],
   "source": [
    "# Load the list of words\n",
    "WORDLIST_FILENAME = \"words.txt\"\n",
    "\n",
    "def loadWords():\n",
    "    \"\"\"\n",
    "    Returns a list of valid words. Words are strings of lowercase letters.\n",
    "    \n",
    "    Depending on the size of the word list, this function may\n",
    "    take a while to finish.\n",
    "    \"\"\"\n",
    "    print(\"Loading word list from file...\")\n",
    "    # inFile: file\n",
    "    inFile = open(WORDLIST_FILENAME, 'r')\n",
    "    # line: string\n",
    "    line = inFile.readline()\n",
    "    # wordlist: list of strings\n",
    "    wordlist = line.split()\n",
    "    print(\"  \", len(wordlist), \"words loaded.\")\n",
    "    return wordlist"
   ]
  },
  {
   "cell_type": "code",
   "execution_count": 3,
   "metadata": {
    "collapsed": true
   },
   "outputs": [],
   "source": [
    "# Choose a random word\n",
    "def chooseWord(wordlist):\n",
    "    \"\"\"\n",
    "    wordlist (list): list of words (strings)\n",
    "\n",
    "    Returns a word from wordlist at random\n",
    "    \"\"\"\n",
    "    return random.choice(wordlist)"
   ]
  },
  {
   "cell_type": "markdown",
   "metadata": {},
   "source": [
    "# Is the Word Guessed?"
   ]
  },
  {
   "cell_type": "markdown",
   "metadata": {},
   "source": [
    "First, implement the function isWordGuessed that takes in two parameters - a string, secretWord, and a list of letters, lettersGuessed. This function returns a boolean - True if secretWord has been guessed (ie, all the letters of secretWord are in lettersGuessed) and False otherwise."
   ]
  },
  {
   "cell_type": "code",
   "execution_count": 4,
   "metadata": {
    "collapsed": true
   },
   "outputs": [],
   "source": [
    "# Define variables\n",
    "secretWord = 'astronaut' \n",
    "lettersGuessed = ['a', 'p', 'e', 'm', 'l', 's']"
   ]
  },
  {
   "cell_type": "code",
   "execution_count": 5,
   "metadata": {
    "collapsed": true
   },
   "outputs": [],
   "source": [
    "def isWordGuessed(secretWord, lettersGuessed):\n",
    "    '''\n",
    "    secretWord: string, the word the user is guessing\n",
    "    lettersGuessed: list, what letters have been guessed so far\n",
    "    returns: boolean, True if all the letters of secretWord are in lettersGuessed;\n",
    "      False otherwise\n",
    "    '''\n",
    "    # FILL IN YOUR CODE HERE...\n",
    "    unique = []\n",
    "    for char in secretWord:\n",
    "        if char not in unique:\n",
    "            unique = unique + [char]\n",
    "    \n",
    "    test = []\n",
    "    for letter in lettersGuessed:\n",
    "        if letter in secretWord:\n",
    "            test = test + [True]\n",
    "        else:\n",
    "            test = test + [False]\n",
    "    if test.count(True) >= len(unique):\n",
    "        return True\n",
    "    else:\n",
    "        return False"
   ]
  },
  {
   "cell_type": "code",
   "execution_count": 6,
   "metadata": {},
   "outputs": [
    {
     "data": {
      "text/plain": [
       "False"
      ]
     },
     "execution_count": 6,
     "metadata": {},
     "output_type": "execute_result"
    }
   ],
   "source": [
    "isWordGuessed(secretWord, lettersGuessed)"
   ]
  },
  {
   "cell_type": "code",
   "execution_count": 7,
   "metadata": {},
   "outputs": [],
   "source": [
    "# def isWordGuessed(secretWord, lettersGuessed):\n",
    "#     '''\n",
    "#     secretWord: string, the word the user is guessing\n",
    "#     lettersGuessed: list, what letters have been guessed so far\n",
    "#     returns: boolean, True if all the letters of secretWord are in lettersGuessed;\n",
    "#       False otherwise\n",
    "#     '''\n",
    "#     # FILL IN YOUR CODE HERE...\n",
    "#     test = []\n",
    "#     for letter in lettersGuessed:\n",
    "#         if letter in secretWord:\n",
    "#             test = test + [lettersGuessed.count(letter) == secretWord.count(letter)]\n",
    "#         else:\n",
    "#             test = test + [False]\n",
    "#     if test.count(True) == len(secretWord):\n",
    "#         return True\n",
    "#     else:\n",
    "#         return False"
   ]
  },
  {
   "cell_type": "markdown",
   "metadata": {},
   "source": [
    "# Getting the User's Guess"
   ]
  },
  {
   "cell_type": "markdown",
   "metadata": {},
   "source": [
    "Next, implement the function getGuessedWord that takes in two parameters - a string, secretWord, and a list of letters, lettersGuessed. This function returns a string that is comprised of letters and underscores, based on what letters in lettersGuessed are in secretWord. This shouldn't be too different from isWordGuessed!"
   ]
  },
  {
   "cell_type": "code",
   "execution_count": 8,
   "metadata": {
    "collapsed": true
   },
   "outputs": [],
   "source": [
    "def getGuessedWord(secretWord, lettersGuessed):\n",
    "    '''\n",
    "    secretWord: string, the word the user is guessing\n",
    "    lettersGuessed: list, what letters have been guessed so far\n",
    "    returns: string, comprised of letters and underscores that represents\n",
    "      what letters in secretWord have been guessed so far.\n",
    "    '''\n",
    "    result = ' '.join(len(secretWord)*'_')\n",
    "    result = list(result)\n",
    "    for letter in lettersGuessed:\n",
    "        if letter in secretWord:\n",
    "            index = [i for i, value in enumerate(secretWord) if value == letter] \n",
    "            for j in index:\n",
    "                result[j*2] = letter\n",
    "        else:\n",
    "            result = result\n",
    "    result = ''.join(result) \n",
    "    return result"
   ]
  },
  {
   "cell_type": "code",
   "execution_count": 9,
   "metadata": {},
   "outputs": [
    {
     "data": {
      "text/plain": [
       "'a s _ _ _ _ a _ _'"
      ]
     },
     "execution_count": 9,
     "metadata": {},
     "output_type": "execute_result"
    }
   ],
   "source": [
    "getGuessedWord(secretWord, lettersGuessed)"
   ]
  },
  {
   "cell_type": "markdown",
   "metadata": {},
   "source": [
    "# Printing out all available letters"
   ]
  },
  {
   "cell_type": "markdown",
   "metadata": {},
   "source": [
    "Next, implement the function getAvailableLetters that takes in one parameter - a list of letters, lettersGuessed. This function returns a string that is comprised of lowercase English letters - all lowercase English letters that are not in lettersGuessed."
   ]
  },
  {
   "cell_type": "code",
   "execution_count": 10,
   "metadata": {
    "collapsed": true
   },
   "outputs": [],
   "source": [
    "def getAvailableLetters(lettersGuessed):\n",
    "    '''\n",
    "    lettersGuessed: list, what letters have been guessed so far\n",
    "    returns: string, comprised of letters that represents what letters have not\n",
    "      yet been guessed.\n",
    "    '''\n",
    "    # FILL IN YOUR CODE HERE...\n",
    "    import string\n",
    "    diff = set(string.ascii_lowercase) - set(lettersGuessed)\n",
    "    diff = sorted(diff)\n",
    "    diff = ', '.join(diff)\n",
    "    diff = diff.replace(', ', '')\n",
    "    return diff"
   ]
  },
  {
   "cell_type": "markdown",
   "metadata": {},
   "source": [
    "# The game"
   ]
  },
  {
   "cell_type": "markdown",
   "metadata": {},
   "source": [
    "Now you will implement the function hangman, which takes one parameter - the secretWord the user is to guess. This starts up an interactive game of Hangman between the user and the computer. Be sure you take advantage of the three helper functions, isWordGuessed, getGuessedWord, and getAvailableLetters, that you've defined in the previous part."
   ]
  },
  {
   "cell_type": "code",
   "execution_count": 29,
   "metadata": {},
   "outputs": [
    {
     "name": "stdout",
     "output_type": "stream",
     "text": [
      "Loading word list from file...\n",
      "   55909 words loaded.\n"
     ]
    }
   ],
   "source": [
    "wordlist = loadWords()"
   ]
  },
  {
   "cell_type": "code",
   "execution_count": 30,
   "metadata": {
    "collapsed": true
   },
   "outputs": [],
   "source": [
    "secretWord = chooseWord(wordlist)"
   ]
  },
  {
   "cell_type": "code",
   "execution_count": 31,
   "metadata": {
    "collapsed": true
   },
   "outputs": [],
   "source": [
    "def hangman(secretWord):\n",
    "    '''\n",
    "    secretWord: string, the secret word to guess.\n",
    "\n",
    "    Starts up an interactive game of Hangman.\n",
    "\n",
    "    * At the start of the game, let the user know how many \n",
    "      letters the secretWord contains.\n",
    "\n",
    "    * Ask the user to supply one guess (i.e. letter) per round.\n",
    "\n",
    "    * The user should receive feedback immediately after each guess \n",
    "      about whether their guess appears in the computers word.\n",
    "\n",
    "    * After each round, you should also display to the user the \n",
    "      partially guessed word so far, as well as letters that the \n",
    "      user has not yet guessed.\n",
    "\n",
    "    Follows the other limitations detailed in the problem write-up.\n",
    "    '''\n",
    "    \n",
    "    print(\"Welcome to the game, Hangman!\")\n",
    "    print(\"I'm thinking of a word that is \" + str(len(secretWord)) + \" letters long.\")\n",
    "    \n",
    "    print(\"-----------\")\n",
    "    \n",
    "    guessTotal = 8\n",
    "    guessNo = guessTotal\n",
    "    lettersGuessed = []\n",
    "\n",
    "    \n",
    "    while guessNo in range(9):\n",
    "        \n",
    "        print(\"You have \" + str(guessNo) + \" guesses left.\")\n",
    "\n",
    "        print(\"Available letters: \" + getAvailableLetters(lettersGuessed))\n",
    "\n",
    "        text = input(\"Please guess a letter: \")\n",
    "        guessInLowerCase = text.lower()\n",
    "        \n",
    "        if text in lettersGuessed:\n",
    "            print(\"Oops! You've already guessed that letter: \" + result)\n",
    "            print(\"-----------\")\n",
    "            \n",
    "        else:\n",
    "\n",
    "            lettersGuessed = lettersGuessed + [text]\n",
    "\n",
    "            result = getGuessedWord(secretWord, lettersGuessed)\n",
    "\n",
    "            if text in secretWord:\n",
    "                guessNo = guessNo\n",
    "                print(\"Good guess: \" + result)\n",
    "                print(\"-----------\")\n",
    "                if isWordGuessed(secretWord, lettersGuessed):\n",
    "                    print(\"Congratulations, you won!\")\n",
    "                    break\n",
    "\n",
    "            else:\n",
    "                guessNo = guessNo - 1\n",
    "                print(\"Oops! That letter is not in my word: \" + result)\n",
    "                print(\"-----------\")\n",
    "\n",
    "            if guessNo == 0:\n",
    "                print(\"Sorry, you ran out of guesses. The word was else. \")\n",
    "                break"
   ]
  },
  {
   "cell_type": "code",
   "execution_count": 32,
   "metadata": {},
   "outputs": [
    {
     "name": "stdout",
     "output_type": "stream",
     "text": [
      "Welcome to the game, Hangman!\n",
      "I'm thinking of a word that is 8 letters long.\n",
      "-----------\n",
      "You have 8 guesses left.\n",
      "Available letters: abcdefghijklmnopqrstuvwxyz\n",
      "Please guess a letter: a\n",
      "Good guess: _ a _ _ _ _ _ _\n",
      "-----------\n",
      "You have 8 guesses left.\n",
      "Available letters: bcdefghijklmnopqrstuvwxyz\n",
      "Please guess a letter: e\n",
      "Good guess: _ a _ _ _ _ e _\n",
      "-----------\n",
      "You have 8 guesses left.\n",
      "Available letters: bcdfghijklmnopqrstuvwxyz\n",
      "Please guess a letter: n\n",
      "Good guess: _ a n _ _ _ e _\n",
      "-----------\n",
      "You have 8 guesses left.\n",
      "Available letters: bcdfghijklmopqrstuvwxyz\n",
      "Please guess a letter: t\n",
      "Oops! That letter is not in my word: _ a n _ _ _ e _\n",
      "-----------\n",
      "You have 7 guesses left.\n",
      "Available letters: bcdfghijklmopqrsuvwxyz\n",
      "Please guess a letter: d\n",
      "Good guess: _ a n _ _ _ e d\n",
      "-----------\n",
      "You have 7 guesses left.\n",
      "Available letters: bcfghijklmopqrsuvwxyz\n",
      "Please guess a letter: o\n",
      "Good guess: _ a n _ o _ e d\n",
      "-----------\n",
      "You have 7 guesses left.\n",
      "Available letters: bcfghijklmpqrsuvwxyz\n",
      "Please guess a letter: s\n",
      "Good guess: _ a n s o _ e d\n",
      "-----------\n",
      "You have 7 guesses left.\n",
      "Available letters: bcfghijklmpqruvwxyz\n",
      "Please guess a letter: r\n",
      "Good guess: r a n s o _ e d\n",
      "-----------\n",
      "You have 7 guesses left.\n",
      "Available letters: bcfghijklmpquvwxyz\n",
      "Please guess a letter: m\n",
      "Good guess: r a n s o m e d\n",
      "-----------\n",
      "Congratulations, you won!\n"
     ]
    }
   ],
   "source": [
    "hangman(secretWord)"
   ]
  }
 ],
 "metadata": {
  "kernelspec": {
   "display_name": "Python 3",
   "language": "python",
   "name": "python3"
  },
  "language_info": {
   "codemirror_mode": {
    "name": "ipython",
    "version": 3
   },
   "file_extension": ".py",
   "mimetype": "text/x-python",
   "name": "python",
   "nbconvert_exporter": "python",
   "pygments_lexer": "ipython3",
   "version": "3.6.1"
  }
 },
 "nbformat": 4,
 "nbformat_minor": 2
}
