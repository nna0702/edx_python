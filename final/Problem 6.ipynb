{
 "cells": [
  {
   "cell_type": "code",
   "execution_count": 1,
   "metadata": {
    "collapsed": true
   },
   "outputs": [],
   "source": [
    "## DO NOT MODIFY THE IMPLEMENTATION OF THE Person CLASS ##\n",
    "class Person(object):\n",
    "    def __init__(self, name):\n",
    "        #create a person with name name\n",
    "        self.name = name\n",
    "        try:\n",
    "            firstBlank = name.rindex(' ')\n",
    "            self.lastName = name[firstBlank+1:]\n",
    "        except:\n",
    "            self.lastName = name\n",
    "        self.age = None\n",
    "    def getLastName(self):\n",
    "        #return self's last name\n",
    "        return self.lastName\n",
    "    def setAge(self, age):\n",
    "        #assumes age is an int greater than 0\n",
    "        #sets self's age to age (in years)\n",
    "        self.age = age\n",
    "    def getAge(self):\n",
    "        #assumes that self's age has been set\n",
    "        #returns self's current age in years\n",
    "        if self.age == None:\n",
    "            raise ValueError\n",
    "        return self.age\n",
    "    def __lt__(self, other):\n",
    "        #return True if self's name is lexicographically less\n",
    "        #than other's name, and False otherwise\n",
    "        if self.lastName == other.lastName:\n",
    "            return self.name < other.name\n",
    "        return self.lastName < other.lastName\n",
    "    def __str__(self):\n",
    "        #return self's name\n",
    "        return self.name"
   ]
  },
  {
   "cell_type": "code",
   "execution_count": 3,
   "metadata": {
    "collapsed": true
   },
   "outputs": [],
   "source": [
    "class USResident(Person):\n",
    "    \"\"\" \n",
    "    A Person who resides in the US.\n",
    "    \"\"\"\n",
    "    def __init__(self, name, status):\n",
    "        \"\"\" \n",
    "        Initializes a Person object. A USResident object inherits \n",
    "        from Person and has one additional attribute:\n",
    "        status: a string, one of \"citizen\", \"legal_resident\", \"illegal_resident\"\n",
    "        Raises a ValueError if status is not one of those 3 strings\n",
    "        \"\"\"\n",
    "        Person.__init__(self, name)\n",
    "        self.status = status\n",
    "        if status not in [\"citizen\", \"legal_resident\", \"illegal_resident\"]:\n",
    "            raise ValueError\n",
    "            \n",
    "    def getStatus(self):\n",
    "        \"\"\"\n",
    "        Returns the status\n",
    "        \"\"\"\n",
    "        return self.status"
   ]
  },
  {
   "cell_type": "code",
   "execution_count": 4,
   "metadata": {
    "collapsed": true
   },
   "outputs": [],
   "source": [
    "a = USResident('Tim Beaver', 'citizen')"
   ]
  },
  {
   "cell_type": "code",
   "execution_count": 5,
   "metadata": {},
   "outputs": [
    {
     "name": "stdout",
     "output_type": "stream",
     "text": [
      "citizen\n"
     ]
    }
   ],
   "source": [
    "print(a.getStatus())"
   ]
  },
  {
   "cell_type": "code",
   "execution_count": 6,
   "metadata": {},
   "outputs": [
    {
     "ename": "ValueError",
     "evalue": "",
     "output_type": "error",
     "traceback": [
      "\u001b[1;31m---------------------------------------------------------------------------\u001b[0m",
      "\u001b[1;31mValueError\u001b[0m                                Traceback (most recent call last)",
      "\u001b[1;32m<ipython-input-6-f103b7bff35a>\u001b[0m in \u001b[0;36m<module>\u001b[1;34m()\u001b[0m\n\u001b[1;32m----> 1\u001b[1;33m \u001b[0mb\u001b[0m \u001b[1;33m=\u001b[0m \u001b[0mUSResident\u001b[0m\u001b[1;33m(\u001b[0m\u001b[1;34m'Tim Horton'\u001b[0m\u001b[1;33m,\u001b[0m \u001b[1;34m'non-resident'\u001b[0m\u001b[1;33m)\u001b[0m\u001b[1;33m\u001b[0m\u001b[0m\n\u001b[0m",
      "\u001b[1;32m<ipython-input-3-888f480b0f19>\u001b[0m in \u001b[0;36m__init__\u001b[1;34m(self, name, status)\u001b[0m\n\u001b[0;32m     13\u001b[0m         \u001b[0mself\u001b[0m\u001b[1;33m.\u001b[0m\u001b[0mstatus\u001b[0m \u001b[1;33m=\u001b[0m \u001b[0mstatus\u001b[0m\u001b[1;33m\u001b[0m\u001b[0m\n\u001b[0;32m     14\u001b[0m         \u001b[1;32mif\u001b[0m \u001b[0mstatus\u001b[0m \u001b[1;32mnot\u001b[0m \u001b[1;32min\u001b[0m \u001b[1;33m[\u001b[0m\u001b[1;34m\"citizen\"\u001b[0m\u001b[1;33m,\u001b[0m \u001b[1;34m\"legal_resident\"\u001b[0m\u001b[1;33m,\u001b[0m \u001b[1;34m\"illegal_resident\"\u001b[0m\u001b[1;33m]\u001b[0m\u001b[1;33m:\u001b[0m\u001b[1;33m\u001b[0m\u001b[0m\n\u001b[1;32m---> 15\u001b[1;33m             \u001b[1;32mraise\u001b[0m \u001b[0mValueError\u001b[0m\u001b[1;33m\u001b[0m\u001b[0m\n\u001b[0m\u001b[0;32m     16\u001b[0m \u001b[1;33m\u001b[0m\u001b[0m\n\u001b[0;32m     17\u001b[0m     \u001b[1;32mdef\u001b[0m \u001b[0mgetStatus\u001b[0m\u001b[1;33m(\u001b[0m\u001b[0mself\u001b[0m\u001b[1;33m)\u001b[0m\u001b[1;33m:\u001b[0m\u001b[1;33m\u001b[0m\u001b[0m\n",
      "\u001b[1;31mValueError\u001b[0m: "
     ]
    }
   ],
   "source": [
    "b = USResident('Tim Horton', 'non-resident')"
   ]
  },
  {
   "cell_type": "code",
   "execution_count": null,
   "metadata": {
    "collapsed": true
   },
   "outputs": [],
   "source": []
  }
 ],
 "metadata": {
  "kernelspec": {
   "display_name": "Python 3",
   "language": "python",
   "name": "python3"
  },
  "language_info": {
   "codemirror_mode": {
    "name": "ipython",
    "version": 3
   },
   "file_extension": ".py",
   "mimetype": "text/x-python",
   "name": "python",
   "nbconvert_exporter": "python",
   "pygments_lexer": "ipython3",
   "version": "3.6.1"
  }
 },
 "nbformat": 4,
 "nbformat_minor": 2
}
