{
 "cells": [
  {
   "cell_type": "markdown",
   "metadata": {},
   "source": [
    "Implement the class myDict with the methods below, which will represent a dictionary without using a dictionary object. The methods you implement below should have the same behavior as a dict object, including raising appropriate exceptions. Your code does not have to be efficient. Any code that uses a Python dictionary object will receive 0."
   ]
  },
  {
   "cell_type": "code",
   "execution_count": 1,
   "metadata": {},
   "outputs": [],
   "source": [
    "class myDict(object):\n",
    "    \"\"\" Implements a dictionary without using a dictionary \"\"\"\n",
    "    def __init__(self):\n",
    "        \"\"\" initialization of your representation \"\"\"\n",
    "        self.keys = []\n",
    "        self.values = []\n",
    "        \n",
    "    def assign(self, k, v):\n",
    "        \"\"\" k (the key) and v (the value), immutable objects  \"\"\"\n",
    "        \n",
    "        if k in self.keys:\n",
    "            self.values[self.keys.index(k)] = v\n",
    "        else:\n",
    "            self.keys.append(k)\n",
    "            self.values.append(v)\n",
    "        \n",
    "    def getval(self, k):\n",
    "        \"\"\" k, immutable object  \"\"\"\n",
    "        if k in self.keys:\n",
    "            return self.values[self.keys.index(k)]\n",
    "        else:\n",
    "            raise KeyError\n",
    "        \n",
    "    def delete(self, k):\n",
    "        \"\"\" k, immutable object \"\"\"   \n",
    "        if k in self.keys:\n",
    "            self.values.remove(self.values[self.keys.index(k)])\n",
    "            self.keys.remove(k)\n",
    "        else:\n",
    "            raise KeyError"
   ]
  }
 ],
 "metadata": {
  "kernelspec": {
   "display_name": "Python 3",
   "language": "python",
   "name": "python3"
  },
  "language_info": {
   "codemirror_mode": {
    "name": "ipython",
    "version": 3
   },
   "file_extension": ".py",
   "mimetype": "text/x-python",
   "name": "python",
   "nbconvert_exporter": "python",
   "pygments_lexer": "ipython3",
   "version": "3.6.1"
  }
 },
 "nbformat": 4,
 "nbformat_minor": 2
}
