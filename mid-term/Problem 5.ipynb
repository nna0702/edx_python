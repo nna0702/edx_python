{
 "cells": [
  {
   "cell_type": "markdown",
   "metadata": {},
   "source": [
    "Write a Python function that returns a list of keys in aDict that map to integer values that are unique (i.e. values appear exactly once in aDict). The list of keys you return should be sorted in increasing order. (If aDict does not contain any unique values, you should return an empty list.)\n",
    "\n",
    "This function takes in a dictionary and returns a list."
   ]
  },
  {
   "cell_type": "code",
   "execution_count": 46,
   "metadata": {
    "collapsed": true
   },
   "outputs": [],
   "source": [
    "# Define variable\n",
    "aDict = {2: 0, 3: 3, 6: 1}"
   ]
  },
  {
   "cell_type": "code",
   "execution_count": 42,
   "metadata": {
    "collapsed": true
   },
   "outputs": [],
   "source": [
    "def uniqueValues(aDict):\n",
    "    '''\n",
    "    aDict: a dictionary\n",
    "    '''\n",
    "    # Transform aDict.values into a list\n",
    "    values = list(aDict.values())\n",
    "    \n",
    "    # Extract a list of unique numbers in the list of values\n",
    "    ls = []\n",
    "    count = 0\n",
    "    for i in values:\n",
    "        if i in values[:count] + values[count+1:]:\n",
    "            ls = ls\n",
    "        else:\n",
    "            ls = ls + [i]\n",
    "        count += 1\n",
    "    \n",
    "    # Return a list of corresponding keys\n",
    "    result = []\n",
    "    for j in ls:\n",
    "        for key, value in aDict.items():\n",
    "            if value == j:\n",
    "                result = result + [key]\n",
    "    result.sort()\n",
    "    return result"
   ]
  },
  {
   "cell_type": "code",
   "execution_count": 47,
   "metadata": {},
   "outputs": [
    {
     "data": {
      "text/plain": [
       "[2, 3, 6]"
      ]
     },
     "execution_count": 47,
     "metadata": {},
     "output_type": "execute_result"
    }
   ],
   "source": [
    "uniqueValues(aDict)"
   ]
  }
 ],
 "metadata": {
  "kernelspec": {
   "display_name": "Python 3",
   "language": "python",
   "name": "python3"
  },
  "language_info": {
   "codemirror_mode": {
    "name": "ipython",
    "version": 3
   },
   "file_extension": ".py",
   "mimetype": "text/x-python",
   "name": "python",
   "nbconvert_exporter": "python",
   "pygments_lexer": "ipython3",
   "version": "3.6.1"
  }
 },
 "nbformat": 4,
 "nbformat_minor": 2
}
