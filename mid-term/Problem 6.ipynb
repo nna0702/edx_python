{
 "cells": [
  {
   "cell_type": "markdown",
   "metadata": {},
   "source": [
    "Write a recursive procedure, called laceStringsRecur(s1, s2), which also laces together two strings. Your procedure should not use any explicit loop mechanism, such as a for or while loop. We have provided a template of the code; your job is to insert a single line of code in each of the indicated places."
   ]
  },
  {
   "cell_type": "code",
   "execution_count": 1,
   "metadata": {},
   "outputs": [],
   "source": [
    "def laceStringsRecur(s1, s2):\n",
    "    \"\"\"\n",
    "    s1 and s2 are strings.\n",
    "\n",
    "    Returns a new str with elements of s1 and s2 interlaced,\n",
    "    beginning with s1. If strings are not of same length, \n",
    "    then the extra elements should appear at the end.\n",
    "    \"\"\"\n",
    "    def helpLaceStrings(s1, s2, out):\n",
    "        if s1 == '':\n",
    "            return out + s2\n",
    "        if s2 == '':\n",
    "            return out + s1\n",
    "        else:\n",
    "            return helpLaceStrings(s1[1:], s2[1:], out + s1[0] + s2[0])\n",
    "    return helpLaceStrings(s1, s2, '')"
   ]
  },
  {
   "cell_type": "code",
   "execution_count": 2,
   "metadata": {},
   "outputs": [
    {
     "data": {
      "text/plain": [
       "'h1e2l3lo'"
      ]
     },
     "execution_count": 2,
     "metadata": {},
     "output_type": "execute_result"
    }
   ],
   "source": [
    "laceStringsRecur(\"hello\", \"123\")"
   ]
  }
 ],
 "metadata": {
  "kernelspec": {
   "display_name": "Python 3",
   "language": "python",
   "name": "python3"
  },
  "language_info": {
   "codemirror_mode": {
    "name": "ipython",
    "version": 3
   },
   "file_extension": ".py",
   "mimetype": "text/x-python",
   "name": "python",
   "nbconvert_exporter": "python",
   "pygments_lexer": "ipython3",
   "version": "3.6.1"
  }
 },
 "nbformat": 4,
 "nbformat_minor": 2
}
