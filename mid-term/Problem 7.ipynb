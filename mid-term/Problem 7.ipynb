{
 "cells": [
  {
   "cell_type": "markdown",
   "metadata": {},
   "source": [
    "Implement a function that meets the specifications below."
   ]
  },
  {
   "cell_type": "code",
   "execution_count": 2,
   "metadata": {},
   "outputs": [],
   "source": [
    "def applyF_filterG(L, f, g):\n",
    "    \"\"\"\n",
    "    Assumes L is a list of integers\n",
    "    Assume functions f and g are defined for you. \n",
    "    f takes in an integer, applies a function, returns another integer \n",
    "    g takes in an integer, applies a Boolean function, \n",
    "        returns either True or False\n",
    "    Mutates L such that, for each element i originally in L, L contains  \n",
    "        i if g(f(i)) returns True, and no other elements\n",
    "    Returns the largest element in the mutated L or -1 if the list is empty\n",
    "    \"\"\"\n",
    "    \n",
    "    # Extract the relevant elements of L\n",
    "    count = 0\n",
    "    result = []\n",
    "    for i in L:\n",
    "        if g(f(i)) == True:\n",
    "            result = result + [L[count]]\n",
    "        else:\n",
    "            result = result\n",
    "        count += 1\n",
    "    \n",
    "    # Mutate L\n",
    "    L[:] = result\n",
    "\n",
    "    # Return the largest element in the mutated L\n",
    "    if L == []:\n",
    "        return -1\n",
    "    else:\n",
    "        return max(L)"
   ]
  },
  {
   "cell_type": "code",
   "execution_count": 3,
   "metadata": {
    "collapsed": true
   },
   "outputs": [],
   "source": [
    "def f(i):\n",
    "    return i**5\n",
    "def g(i):\n",
    "    return i % 17 == 0\n",
    "\n",
    "L = [12, 17, 47, -3, 5]"
   ]
  },
  {
   "cell_type": "code",
   "execution_count": 4,
   "metadata": {},
   "outputs": [
    {
     "data": {
      "text/plain": [
       "17"
      ]
     },
     "execution_count": 4,
     "metadata": {},
     "output_type": "execute_result"
    }
   ],
   "source": [
    "applyF_filterG(L, f, g)"
   ]
  },
  {
   "cell_type": "code",
   "execution_count": 5,
   "metadata": {},
   "outputs": [
    {
     "data": {
      "text/plain": [
       "[17]"
      ]
     },
     "execution_count": 5,
     "metadata": {},
     "output_type": "execute_result"
    }
   ],
   "source": [
    "L"
   ]
  }
 ],
 "metadata": {
  "kernelspec": {
   "display_name": "Python 3",
   "language": "python",
   "name": "python3"
  },
  "language_info": {
   "codemirror_mode": {
    "name": "ipython",
    "version": 3
   },
   "file_extension": ".py",
   "mimetype": "text/x-python",
   "name": "python",
   "nbconvert_exporter": "python",
   "pygments_lexer": "ipython3",
   "version": "3.6.1"
  }
 },
 "nbformat": 4,
 "nbformat_minor": 2
}
