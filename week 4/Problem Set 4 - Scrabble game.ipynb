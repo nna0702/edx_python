{
 "cells": [
  {
   "cell_type": "code",
   "execution_count": 1,
   "metadata": {
    "collapsed": true
   },
   "outputs": [],
   "source": [
    "# Import libraries\n",
    "import random\n",
    "import string"
   ]
  },
  {
   "cell_type": "code",
   "execution_count": 2,
   "metadata": {
    "collapsed": true
   },
   "outputs": [],
   "source": [
    "# Define variables\n",
    "VOWELS = 'aeiou'\n",
    "CONSONANTS = 'bcdfghjklmnpqrstvwxyz'\n",
    "HAND_SIZE = 7\n",
    "SCRABBLE_LETTER_VALUES = {\n",
    "    'a': 1, 'b': 3, 'c': 3, 'd': 2, 'e': 1, 'f': 4, 'g': 2, 'h': 4, 'i': 1, 'j': 8, 'k': 5, 'l': 1, 'm': 3, 'n': 1, 'o': 1, 'p': 3, 'q': 10, 'r': 1, 's': 1, 't': 1, 'u': 1, 'v': 4, 'w': 4, 'x': 8, 'y': 4, 'z': 10\n",
    "}\n",
    "WORDLIST_FILENAME = \"words.txt\""
   ]
  },
  {
   "cell_type": "code",
   "execution_count": 3,
   "metadata": {
    "collapsed": true
   },
   "outputs": [],
   "source": [
    "def loadWords():\n",
    "    \"\"\"\n",
    "    Returns a list of valid words. Words are strings of lowercase letters.\n",
    "    \n",
    "    Depending on the size of the word list, this function may\n",
    "    take a while to finish.\n",
    "    \"\"\"\n",
    "    print(\"Loading word list from file...\")\n",
    "    # inFile: file\n",
    "    inFile = open(WORDLIST_FILENAME, 'r')\n",
    "    # wordList: list of strings\n",
    "    wordList = []\n",
    "    for line in inFile:\n",
    "        wordList.append(line.strip().lower())\n",
    "    print(\"  \", len(wordList), \"words loaded.\")\n",
    "    return wordList"
   ]
  },
  {
   "cell_type": "code",
   "execution_count": 4,
   "metadata": {
    "collapsed": true
   },
   "outputs": [],
   "source": [
    "def getFrequencyDict(sequence):\n",
    "    \"\"\"\n",
    "    Returns a dictionary where the keys are elements of the sequence\n",
    "    and the values are integer counts, for the number of times that\n",
    "    an element is repeated in the sequence.\n",
    "\n",
    "    sequence: string or list\n",
    "    return: dictionary\n",
    "    \"\"\"\n",
    "    # freqs: dictionary (element_type -> int)\n",
    "    freq = {}\n",
    "    for x in sequence:\n",
    "        freq[x] = freq.get(x,0) + 1\n",
    "    return freq"
   ]
  },
  {
   "cell_type": "markdown",
   "metadata": {},
   "source": [
    "# Problem 1: Word Scores"
   ]
  },
  {
   "cell_type": "markdown",
   "metadata": {},
   "source": [
    "The first step is to implement some code that allows us to calculate the score for a single word. The function getWordScore should accept as input a string of lowercase letters (a word) and return the integer score for that word, using the game's scoring rules."
   ]
  },
  {
   "cell_type": "code",
   "execution_count": 5,
   "metadata": {
    "collapsed": true
   },
   "outputs": [],
   "source": [
    "def getWordScore(word, n):\n",
    "    \"\"\"\n",
    "    Returns the score for a word. Assumes the word is a valid word.\n",
    "\n",
    "    The score for a word is the sum of the points for letters in the\n",
    "    word, multiplied by the length of the word, PLUS 50 points if all n\n",
    "    letters are used on the first turn.\n",
    "\n",
    "    Letters are scored as in Scrabble; A is worth 1, B is worth 3, C is\n",
    "    worth 3, D is worth 2, E is worth 1, and so on (see SCRABBLE_LETTER_VALUES)\n",
    "\n",
    "    word: string (lowercase letters)\n",
    "    n: integer (HAND_SIZE; i.e., hand size required for additional points)\n",
    "    returns: int >= 0\n",
    "    \"\"\"\n",
    "    # Initialise a variable to store score\n",
    "    score = 0\n",
    "    \n",
    "    # Calculate score for each letter\n",
    "    for letter in word:\n",
    "        score = score + SCRABBLE_LETTER_VALUES[letter]\n",
    "        \n",
    "    # Multiply by number of letters\n",
    "    score = len(word) * score\n",
    "    \n",
    "    # Give extra 50 points if all letters are used\n",
    "    if len(word) == n:\n",
    "        score = score + 50\n",
    "        \n",
    "    return score"
   ]
  },
  {
   "cell_type": "code",
   "execution_count": 6,
   "metadata": {},
   "outputs": [
    {
     "data": {
      "text/plain": [
       "155"
      ]
     },
     "execution_count": 6,
     "metadata": {},
     "output_type": "execute_result"
    }
   ],
   "source": [
    "getWordScore('waybill', 7)"
   ]
  },
  {
   "cell_type": "markdown",
   "metadata": {},
   "source": [
    "# Problem 2: Dealing with Hands"
   ]
  },
  {
   "cell_type": "code",
   "execution_count": 7,
   "metadata": {
    "collapsed": true
   },
   "outputs": [],
   "source": [
    "def dealHand(n):\n",
    "    \"\"\"\n",
    "    Returns a random hand containing n lowercase letters.\n",
    "    At least n/3 the letters in the hand should be VOWELS.\n",
    "\n",
    "    Hands are represented as dictionaries. The keys are\n",
    "    letters and the values are the number of times the\n",
    "    particular letter is repeated in that hand.\n",
    "\n",
    "    n: int >= 0\n",
    "    returns: dictionary (string -> int)\n",
    "    \"\"\"\n",
    "    hand={}\n",
    "    numVowels = n // 3\n",
    "\n",
    "    for i in range(numVowels):\n",
    "        x = VOWELS[random.randrange(0,len(VOWELS))]\n",
    "        hand[x] = hand.get(x, 0) + 1\n",
    "       \n",
    "    for i in range(numVowels, n):\n",
    "        x = CONSONANTS[random.randrange(0,len(CONSONANTS))]\n",
    "        hand[x] = hand.get(x, 0) + 1\n",
    "        \n",
    "    return hand"
   ]
  },
  {
   "cell_type": "code",
   "execution_count": 8,
   "metadata": {
    "collapsed": true
   },
   "outputs": [],
   "source": [
    "hand = dealHand(HAND_SIZE)"
   ]
  },
  {
   "cell_type": "code",
   "execution_count": 9,
   "metadata": {
    "collapsed": true
   },
   "outputs": [],
   "source": [
    "def displayHand(hand):\n",
    "    \"\"\"\n",
    "    Displays the letters currently in the hand.\n",
    "\n",
    "    For example:\n",
    "    >>> displayHand({'a':1, 'x':2, 'l':3, 'e':1})\n",
    "    Should print out something like:\n",
    "       a x x l l l e\n",
    "    The order of the letters is unimportant.\n",
    "\n",
    "    hand: dictionary (string -> int)\n",
    "    \"\"\"\n",
    "    for letter in hand.keys():\n",
    "        for j in range(hand[letter]):\n",
    "             print(letter,end=\" \")       # print all on the same line\n",
    "    print()  "
   ]
  },
  {
   "cell_type": "code",
   "execution_count": 10,
   "metadata": {},
   "outputs": [
    {
     "name": "stdout",
     "output_type": "stream",
     "text": [
      "i i d d d v b \n"
     ]
    }
   ],
   "source": [
    "displayHand(hand)"
   ]
  },
  {
   "cell_type": "code",
   "execution_count": 11,
   "metadata": {
    "collapsed": true
   },
   "outputs": [],
   "source": [
    "word = 'crop'"
   ]
  },
  {
   "cell_type": "code",
   "execution_count": 12,
   "metadata": {
    "collapsed": true
   },
   "outputs": [],
   "source": [
    "def updateHand(hand, word):\n",
    "    \"\"\"\n",
    "    Assumes that 'hand' has all the letters in word.\n",
    "    In other words, this assumes that however many times\n",
    "    a letter appears in 'word', 'hand' has at least as\n",
    "    many of that letter in it. \n",
    "\n",
    "    Updates the hand: uses up the letters in the given word\n",
    "    and returns the new hand, without those letters in it.\n",
    "\n",
    "    Has no side effects: does not modify hand.\n",
    "\n",
    "    word: string\n",
    "    hand: dictionary (string -> int)    \n",
    "    returns: dictionary (string -> int)\n",
    "    \"\"\"\n",
    "    # Create a list of letters from hand\n",
    "    hand_letter = list(hand.keys())\n",
    "    \n",
    "    # Create a dictionary out of word\n",
    "    word_list = list(word)\n",
    "#     word_dict = {}\n",
    "#     for x in word_list:\n",
    "#         word_dict[x] = word_dict.get(x,0) + 1\n",
    "    word_dict = getFrequencyDict(word_list)\n",
    "\n",
    "    # Find the difference between the dictionary of hand and dictionary of word\n",
    "    values = []\n",
    "    count = 0\n",
    "    for key in hand.keys():\n",
    "        values = values + [hand[key] - word_dict.get(key, 0)]\n",
    "        count += 1\n",
    "    result = dict(zip(hand_letter, values))\n",
    "    new_hand = {key:val for key, val in result.items() if val > 0}\n",
    "    \n",
    "    return new_hand"
   ]
  },
  {
   "cell_type": "code",
   "execution_count": 13,
   "metadata": {},
   "outputs": [
    {
     "data": {
      "text/plain": [
       "{'b': 1, 'd': 3, 'i': 2, 'v': 1}"
      ]
     },
     "execution_count": 13,
     "metadata": {},
     "output_type": "execute_result"
    }
   ],
   "source": [
    "updateHand(hand, word)"
   ]
  },
  {
   "cell_type": "markdown",
   "metadata": {},
   "source": [
    "# Problem 3: Valid words"
   ]
  },
  {
   "cell_type": "markdown",
   "metadata": {},
   "source": [
    "A valid word is in the word list; and it is composed entirely of letters from the current hand. Implement the isValidWord function."
   ]
  },
  {
   "cell_type": "code",
   "execution_count": 14,
   "metadata": {},
   "outputs": [
    {
     "name": "stdout",
     "output_type": "stream",
     "text": [
      "Loading word list from file...\n",
      "   83667 words loaded.\n"
     ]
    }
   ],
   "source": [
    "wordList = loadWords()"
   ]
  },
  {
   "cell_type": "code",
   "execution_count": 15,
   "metadata": {
    "collapsed": true
   },
   "outputs": [],
   "source": [
    "def isValidWord(word, hand, wordList):\n",
    "    \"\"\"\n",
    "    Returns True if word is in the wordList and is entirely\n",
    "    composed of letters in the hand. Otherwise, returns False.\n",
    "\n",
    "    Does not mutate hand or wordList.\n",
    "   \n",
    "    word: string\n",
    "    hand: dictionary (string -> int)\n",
    "    wordList: list of lowercase strings\n",
    "    \"\"\"\n",
    "    \n",
    "    # Create a dictionary out of word\n",
    "    word_list = list(word)\n",
    "    word_dict = {}\n",
    "    for x in word_list:\n",
    "        word_dict[x] = word_dict.get(x,0) + 1\n",
    "        \n",
    "    # Create a test variable\n",
    "    test = []\n",
    "    \n",
    "    # Test if word consists of letters from hand\n",
    "    for letter in word_dict.keys():\n",
    "        if letter in hand.keys() and word_dict[letter] <= hand[letter]:\n",
    "            test = test + [True]\n",
    "        else:\n",
    "            test = test + [False]\n",
    "        \n",
    "    # Test if word is included in wordlist\n",
    "    if word in wordList:\n",
    "        test = test + [True]\n",
    "    else:\n",
    "        test = test + [False]\n",
    "        \n",
    "    # Evaluate overall test\n",
    "    test = all(test)\n",
    "    \n",
    "    return test"
   ]
  },
  {
   "cell_type": "code",
   "execution_count": 16,
   "metadata": {},
   "outputs": [
    {
     "data": {
      "text/plain": [
       "False"
      ]
     },
     "execution_count": 16,
     "metadata": {},
     "output_type": "execute_result"
    }
   ],
   "source": [
    "isValidWord(word, hand, wordList)"
   ]
  },
  {
   "cell_type": "markdown",
   "metadata": {},
   "source": [
    "# Problem 4: Hand length"
   ]
  },
  {
   "cell_type": "code",
   "execution_count": 17,
   "metadata": {
    "collapsed": true
   },
   "outputs": [],
   "source": [
    "def calculateHandlen(hand):\n",
    "    \"\"\" \n",
    "    Returns the length (number of letters) in the current hand.\n",
    "    \n",
    "    hand: dictionary (string int)\n",
    "    returns: integer\n",
    "    \"\"\"\n",
    "    length = 0\n",
    "    for key in hand.keys():\n",
    "        length = length + hand[key]\n",
    "        \n",
    "    return length"
   ]
  },
  {
   "cell_type": "markdown",
   "metadata": {},
   "source": [
    "# Problem 5: Playing a Hand"
   ]
  },
  {
   "cell_type": "code",
   "execution_count": 18,
   "metadata": {
    "collapsed": true
   },
   "outputs": [],
   "source": [
    "def playHand(hand, wordList, n):\n",
    "    \"\"\"\n",
    "    Allows the user to play the given hand, as follows:\n",
    "\n",
    "    * The hand is displayed.\n",
    "    * The user may input a word or a single period (the string \".\") \n",
    "      to indicate they're done playing\n",
    "    * Invalid words are rejected, and a message is displayed asking\n",
    "      the user to choose another word until they enter a valid word or \".\"\n",
    "    * When a valid word is entered, it uses up letters from the hand.\n",
    "    * After every valid word: the score for that word is displayed,\n",
    "      the remaining letters in the hand are displayed, and the user\n",
    "      is asked to input another word.\n",
    "    * The sum of the word scores is displayed when the hand finishes.\n",
    "    * The hand finishes when there are no more unused letters or the user\n",
    "      inputs a \".\"\n",
    "\n",
    "      hand: dictionary (string -> int)\n",
    "      wordList: list of lowercase strings\n",
    "      n: integer (HAND_SIZE; i.e., hand size required for additional points)\n",
    "      \n",
    "    \"\"\"\n",
    "    # BEGIN PSEUDOCODE <-- Remove this comment when you code this function; do your coding within the pseudocode (leaving those comments in-place!)\n",
    "    # Keep track of the total score\n",
    "    \n",
    "    # As long as there are still letters left in the hand:\n",
    "    total = 0\n",
    "    score = 0\n",
    "    while calculateHandlen(hand) > 0:\n",
    "        print(\"Current Hand: \", end = \"\")\n",
    "\n",
    "        # Display the hand\n",
    "        displayHand(hand)\n",
    "\n",
    "        # Ask user for input\n",
    "        word = input(\"Enter word, or a '.' to indicate that you are finished: \")\n",
    "\n",
    "        # Create a dictionary out of word\n",
    "        word_list = list(word)\n",
    "        word_dict = {}\n",
    "        for x in word_list:\n",
    "            word_dict[x] = word_dict.get(x,0) + 1\n",
    "\n",
    "        # If input is '.'\n",
    "        if word == '.':\n",
    "            print(\"Goodbye! Total score: \" + str(total) + \" points.\")\n",
    "            print('')\n",
    "            break\n",
    "\n",
    "        # If the input is a single period:\n",
    "        if word_dict == hand and isValidWord(word, hand, wordList) == True:\n",
    "            score = getWordScore(word, n)\n",
    "            total = total + score\n",
    "            print('\"' + word + '\"' + \" earned \" + str(score) + \" points. \" + \"Total: \" + str(total) + \" points.\")\n",
    "            print('')\n",
    "            print(\"Run out of letters. Total score: \" + str(total) + \" points.\")\n",
    "            break\n",
    "            # End the game (break out of the loop)\n",
    "\n",
    "        # Otherwise (the input is not a single period):\n",
    "\n",
    "        else:\n",
    "            # If the word is not valid:\n",
    "            if isValidWord(word, hand, wordList) == False:\n",
    "                print(\"Invalid word, please try again.\")\n",
    "                print('')\n",
    "\n",
    "            # If the word is valid:\n",
    "            else:\n",
    "                score = getWordScore(word, n)\n",
    "                total = total + score\n",
    "                print('\"' + word + '\"' + \" earned \" + str(score) + \" points. \" + \"Total: \" + str(total) + \" points.\")\n",
    "                print('')\n",
    "                hand = updateHand(hand, word)"
   ]
  },
  {
   "cell_type": "code",
   "execution_count": 19,
   "metadata": {},
   "outputs": [
    {
     "name": "stdout",
     "output_type": "stream",
     "text": [
      "Current Hand: a a e e p r t \n",
      "Enter word, or a '.' to indicate that you are finished: pear\n",
      "\"pear\" earned 24 points. Total: 24 points.\n",
      "\n",
      "Current Hand: a e t \n",
      "Enter word, or a '.' to indicate that you are finished: tea\n",
      "\"tea\" earned 9 points. Total: 33 points.\n",
      "\n",
      "Run out of letters. Total score: 33 points.\n"
     ]
    }
   ],
   "source": [
    "playHand({'a': 2, 'e': 2, 'p': 1, 'r': 1, 't': 1}, wordList, 7)"
   ]
  },
  {
   "cell_type": "markdown",
   "metadata": {},
   "source": [
    "# Problem 6: Playing a game"
   ]
  },
  {
   "cell_type": "markdown",
   "metadata": {},
   "source": [
    "A game consists of playing multiple hands. We need to implement one final function to complete our word-game program. Write the code that implements the playGame function. You should remove the code that is currently uncommented in the playGame body. Read through the specification and make sure you understand what this function accomplishes. For the game, you should use the HAND_SIZE constant to determine the number of cards in a hand."
   ]
  },
  {
   "cell_type": "code",
   "execution_count": 20,
   "metadata": {
    "collapsed": true
   },
   "outputs": [],
   "source": [
    "def playGame(wordList):\n",
    "    \"\"\"\n",
    "    Allow the user to play an arbitrary number of hands.\n",
    "\n",
    "    1) Asks the user to input 'n' or 'r' or 'e'.\n",
    "      * If the user inputs 'n', let the user play a new (random) hand.\n",
    "      * If the user inputs 'r', let the user play the last hand again.\n",
    "      * If the user inputs 'e', exit the game.\n",
    "      * If the user inputs anything else, tell them their input was invalid.\n",
    " \n",
    "    2) When done playing the hand, repeat from step 1    \n",
    "    \"\"\"\n",
    "    wordList = loadWords()\n",
    "    hand = {}\n",
    "    while True:\n",
    "        text = input('Enter n to deal a new hand, r to replay the last hand, or e to end game: ')\n",
    "        if text == 'e':\n",
    "            break\n",
    "\n",
    "        elif text == 'n':\n",
    "            hand = dealHand(HAND_SIZE)\n",
    "            playHand(hand, wordList, HAND_SIZE)\n",
    "\n",
    "        elif text == 'r' and hand == {}:\n",
    "            print('You have not played a hand yet. Please play a new hand first!')\n",
    "            print('')\n",
    "\n",
    "        elif text == 'r' and hand != {}:\n",
    "            playHand(hand, wordList, HAND_SIZE)\n",
    "\n",
    "        else:\n",
    "            print('Invalid command.')\n",
    "            print('')"
   ]
  },
  {
   "cell_type": "code",
   "execution_count": 21,
   "metadata": {},
   "outputs": [
    {
     "name": "stdout",
     "output_type": "stream",
     "text": [
      "Loading word list from file...\n",
      "   83667 words loaded.\n",
      "Enter n to deal a new hand, r to replay the last hand, or e to end game: n\n",
      "Current Hand: i e p t r l k \n",
      "Enter word, or a '.' to indicate that you are finished: trek\n",
      "\"trek\" earned 32 points. Total: 32 points.\n",
      "\n",
      "Current Hand: i p l \n",
      "Enter word, or a '.' to indicate that you are finished: pi\n",
      "\"pi\" earned 8 points. Total: 40 points.\n",
      "\n",
      "Current Hand: l \n",
      "Enter word, or a '.' to indicate that you are finished: .\n",
      "Goodbye! Total score: 40 points.\n",
      "\n",
      "Enter n to deal a new hand, r to replay the last hand, or e to end game: e\n"
     ]
    }
   ],
   "source": [
    "playGame(wordList)"
   ]
  },
  {
   "cell_type": "markdown",
   "metadata": {},
   "source": [
    "# Computer plays the game"
   ]
  },
  {
   "cell_type": "markdown",
   "metadata": {},
   "source": [
    "Now that you have completed your word game code, you decide that you would like to enable your computer (SkyNet) to play the game (your hidden agenda is to prove once and for all that computers are inferior to human intellect!) In this part, you will be able to compare how you as a user succeed in the game compared to the computer's performance."
   ]
  },
  {
   "cell_type": "code",
   "execution_count": 22,
   "metadata": {
    "collapsed": true
   },
   "outputs": [],
   "source": [
    "import time"
   ]
  },
  {
   "cell_type": "code",
   "execution_count": 23,
   "metadata": {
    "collapsed": true
   },
   "outputs": [],
   "source": [
    "# Computer chooses a word\n",
    "\n",
    "def compChooseWord(hand, wordList, n):\n",
    "    \"\"\"\n",
    "    Given a hand and a wordList, find the word that gives \n",
    "    the maximum value score, and return it.\n",
    "\n",
    "    This word should be calculated by considering all the words\n",
    "    in the wordList.\n",
    "\n",
    "    If no words in the wordList can be made from the hand, return None.\n",
    "\n",
    "    hand: dictionary (string -> int)\n",
    "    wordList: list (string)\n",
    "    n: integer (HAND_SIZE; i.e., hand size required for additional points)\n",
    "\n",
    "    returns: string or None\n",
    "    \"\"\"\n",
    "    # Create a new variable to store the maximum score seen so far (initially 0)\n",
    "    bestScore = 0\n",
    "    # Create a new variable to store the best word seen so far (initially None)  \n",
    "    bestWord = None\n",
    "    # For each word in the wordList\n",
    "    for word in wordList:\n",
    "        # If you can construct the word from your hand\n",
    "        if isValidWord(word, hand, wordList):\n",
    "            # find out how much making that word is worth\n",
    "            score = getWordScore(word, n)\n",
    "            # If the score for that word is higher than your best score\n",
    "            if (score > bestScore):\n",
    "                # update your best score, and best word accordingly\n",
    "                bestScore = score\n",
    "                bestWord = word\n",
    "    # return the best word you found.\n",
    "    return bestWord"
   ]
  },
  {
   "cell_type": "code",
   "execution_count": 24,
   "metadata": {
    "collapsed": true
   },
   "outputs": [],
   "source": [
    "# Computer plays a hand\n",
    "\n",
    "def compPlayHand(hand, wordList, n):\n",
    "    \"\"\"\n",
    "    Allows the computer to play the given hand, following the same procedure\n",
    "    as playHand, except instead of the user choosing a word, the computer \n",
    "    chooses it.\n",
    "\n",
    "    1) The hand is displayed.\n",
    "    2) The computer chooses a word.\n",
    "    3) After every valid word: the word and the score for that word is \n",
    "    displayed, the remaining letters in the hand are displayed, and the \n",
    "    computer chooses another word.\n",
    "    4)  The sum of the word scores is displayed when the hand finishes.\n",
    "    5)  The hand finishes when the computer has exhausted its possible\n",
    "    choices (i.e. compChooseWord returns None).\n",
    " \n",
    "    hand: dictionary (string -> int)\n",
    "    wordList: list (string)\n",
    "    n: integer (HAND_SIZE; i.e., hand size required for additional points)\n",
    "    \"\"\"\n",
    "    # Keep track of the total score\n",
    "    totalScore = 0\n",
    "    # As long as there are still letters left in the hand:\n",
    "    while (calculateHandlen(hand) > 0) :\n",
    "        # Display the hand\n",
    "        print(\"Current Hand: \", end=' ')\n",
    "        displayHand(hand)\n",
    "        # computer's word\n",
    "        word = compChooseWord(hand, wordList, n)\n",
    "        # If the input is a single period:\n",
    "        if word == None:\n",
    "            # End the game (break out of the loop)\n",
    "            break\n",
    "            \n",
    "        # Otherwise (the input is not a single period):\n",
    "        else :\n",
    "            # If the word is not valid:\n",
    "            if (not isValidWord(word, hand, wordList)) :\n",
    "                print('This is a terrible error! I need to check my own code!')\n",
    "                break\n",
    "            # Otherwise (the word is valid):\n",
    "            else :\n",
    "                # Tell the user how many points the word earned, and the updated total score \n",
    "                score = getWordScore(word, n)\n",
    "                totalScore += score\n",
    "                print('\"' + word + '\" earned ' + str(score) + ' points. Total: ' + str(totalScore) + ' points')              \n",
    "                # Update hand and show the updated hand to the user\n",
    "                hand = updateHand(hand, word)\n",
    "                print()\n",
    "    # Game is over (user entered a '.' or ran out of letters), so tell user the total score\n",
    "    print('Total score: ' + str(totalScore) + ' points.')"
   ]
  },
  {
   "cell_type": "code",
   "execution_count": 25,
   "metadata": {},
   "outputs": [],
   "source": [
    "def playGame(wordList):\n",
    "    \"\"\"\n",
    "    Allow the user to play an arbitrary number of hands.\n",
    " \n",
    "    1) Asks the user to input 'n' or 'r' or 'e'.\n",
    "        * If the user inputs 'e', immediately exit the game.\n",
    "        * If the user inputs anything that's not 'n', 'r', or 'e', keep asking them again.\n",
    "\n",
    "    2) Asks the user to input a 'u' or a 'c'.\n",
    "        * If the user inputs anything that's not 'c' or 'u', keep asking them again.\n",
    "\n",
    "    3) Switch functionality based on the above choices:\n",
    "        * If the user inputted 'n', play a new (random) hand.\n",
    "        * Else, if the user inputted 'r', play the last hand again.\n",
    "          But if no hand was played, output \"You have not played a hand yet. \n",
    "          Please play a new hand first!\"\n",
    "        \n",
    "        * If the user inputted 'u', let the user play the game\n",
    "          with the selected hand, using playHand.\n",
    "        * If the user inputted 'c', let the computer play the \n",
    "          game with the selected hand, using compPlayHand.\n",
    "\n",
    "    4) After the computer or user has played the hand, repeat from step 1\n",
    "\n",
    "    wordList: list (string)\n",
    "    \"\"\"\n",
    "    hand = {} \n",
    "    while True:\n",
    "        \n",
    "        # User input for type of hand\n",
    "        text = input('Enter n to deal a new hand, r to replay the last hand, or e to end game: ')\n",
    "        print('')\n",
    "\n",
    "        if text != 'n' and text != 'r' and text != 'e':\n",
    "            print('Invalid command')\n",
    "\n",
    "        # If the user wants to end the game\n",
    "        elif text == 'e':\n",
    "            break\n",
    "\n",
    "        # If the user wants to repeat the game but hasn't started:\n",
    "        elif text == 'r' and hand == {}:\n",
    "            print('You have not played a hand yet. Please play a new hand first!')\n",
    "            print('')\n",
    "\n",
    "        # Otherwise\n",
    "        else:\n",
    "\n",
    "            # If the user wants to play a new game\n",
    "            if text == 'n':\n",
    "                hand = dealHand(HAND_SIZE)\n",
    "\n",
    "            # If the user wants to play previous game\n",
    "            else:\n",
    "                hand = hand\n",
    "\n",
    "            while True:\n",
    "                turn = input('Enter u to have yourself play, c to have the computer play: ')\n",
    "                print('')\n",
    "\n",
    "                if turn != 'u' and turn != 'c':\n",
    "                    print('Invalid command')\n",
    "                    print('')\n",
    "\n",
    "                # If user is human\n",
    "                elif turn == 'u':\n",
    "                    playHand(hand, wordList, HAND_SIZE)\n",
    "                    break\n",
    "\n",
    "                # If user is computer\n",
    "                else:\n",
    "                    compPlayHand(hand, wordList, HAND_SIZE)\n",
    "                    break\n"
   ]
  },
  {
   "cell_type": "code",
   "execution_count": 26,
   "metadata": {},
   "outputs": [
    {
     "name": "stdout",
     "output_type": "stream",
     "text": [
      "Enter n to deal a new hand, r to replay the last hand, or e to end game: n\n",
      "\n",
      "Enter u to have yourself play, c to have the computer play: u\n",
      "\n",
      "Current Hand: i e s s g z w \n",
      "Enter word, or a '.' to indicate that you are finished: wiz\n",
      "\"wiz\" earned 45 points. Total: 45 points.\n",
      "\n",
      "Current Hand: e s s g \n",
      "Enter word, or a '.' to indicate that you are finished: eg\n",
      "Invalid word, please try again.\n",
      "\n",
      "Current Hand: e s s g \n",
      "Enter word, or a '.' to indicate that you are finished: seg\n",
      "\"seg\" earned 12 points. Total: 57 points.\n",
      "\n",
      "Current Hand: s \n",
      "Enter word, or a '.' to indicate that you are finished: .\n",
      "Goodbye! Total score: 57 points.\n",
      "\n",
      "Enter n to deal a new hand, r to replay the last hand, or e to end game: r\n",
      "\n",
      "Enter u to have yourself play, c to have the computer play: c\n",
      "\n",
      "Current Hand:  i e s s g z w \n",
      "\"wizes\" earned 85 points. Total: 85 points\n",
      "\n",
      "Current Hand:  s g \n",
      "Total score: 85 points.\n",
      "Enter n to deal a new hand, r to replay the last hand, or e to end game: e\n",
      "\n"
     ]
    }
   ],
   "source": [
    "playGame(wordList)"
   ]
  }
 ],
 "metadata": {
  "kernelspec": {
   "display_name": "Python 3",
   "language": "python",
   "name": "python3"
  },
  "language_info": {
   "codemirror_mode": {
    "name": "ipython",
    "version": 3
   },
   "file_extension": ".py",
   "mimetype": "text/x-python",
   "name": "python",
   "nbconvert_exporter": "python",
   "pygments_lexer": "ipython3",
   "version": "3.6.1"
  }
 },
 "nbformat": 4,
 "nbformat_minor": 2
}
