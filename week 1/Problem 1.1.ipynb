{
 "cells": [
  {
   "cell_type": "markdown",
   "metadata": {},
   "source": [
    "# Problem 1.1\n",
    "\n",
    "Assume s is a string of lower case characters.\n",
    "\n",
    "Write a program that counts up the number of vowels contained in the string s. Valid vowels are: 'a', 'e', 'i', 'o', and 'u'."
   ]
  },
  {
   "cell_type": "code",
   "execution_count": null,
   "metadata": {
    "collapsed": true
   },
   "outputs": [],
   "source": [
    "# Create a list of vowels\n",
    "vowels = ['a', 'e', 'i', 'o', 'u']"
   ]
  },
  {
   "cell_type": "code",
   "execution_count": null,
   "metadata": {
    "collapsed": true
   },
   "outputs": [],
   "source": [
    "# Define string\n",
    "s = 'renuoghfcgij'"
   ]
  },
  {
   "cell_type": "code",
   "execution_count": null,
   "metadata": {
    "collapsed": true
   },
   "outputs": [],
   "source": [
    "# Separate characters of s into a list\n",
    "string = list(s)  "
   ]
  },
  {
   "cell_type": "code",
   "execution_count": null,
   "metadata": {
    "collapsed": true
   },
   "outputs": [],
   "source": [
    "# List the vowels in string\n",
    "output = []\n",
    "for i in range(0, len(string)):\n",
    "    if string[i] in vowels:\n",
    "        output.append(string[i])\n",
    "print(output) "
   ]
  },
  {
   "cell_type": "code",
   "execution_count": null,
   "metadata": {
    "collapsed": true
   },
   "outputs": [],
   "source": [
    "# Number of vowels in the s\n",
    "num = len(output)"
   ]
  },
  {
   "cell_type": "code",
   "execution_count": null,
   "metadata": {
    "collapsed": true
   },
   "outputs": [],
   "source": [
    "# Turn num into a string to print\n",
    "num = str(num)"
   ]
  },
  {
   "cell_type": "code",
   "execution_count": null,
   "metadata": {
    "collapsed": true
   },
   "outputs": [],
   "source": [
    "# Print output\n",
    "print(\"Number of vowels: \" + num)"
   ]
  },
  {
   "cell_type": "code",
   "execution_count": null,
   "metadata": {
    "collapsed": true
   },
   "outputs": [],
   "source": [
    "# # Paste your code into this box \n",
    "# # Create a list of vowels\n",
    "# vowels = ['a', 'e', 'i', 'o', 'u']\n",
    "\n",
    "# # Separate characters of s into a list\n",
    "# string = list(s)\n",
    "\n",
    "# # List the vowels in string\n",
    "# output = []\n",
    "# for i in range(0, len(string)):\n",
    "#     if string[i] in vowels:\n",
    "#         output.append(string[i])\n",
    "# print(output)\n",
    "\n",
    "# # Number of vowels in the s\n",
    "# num = len(output)\n",
    "\n",
    "# # Turn num into a string to print\n",
    "# num = str(num)\n",
    "\n",
    "# # Print output\n",
    "# print(\"Number of vowels: \" + num)"
   ]
  }
 ],
 "metadata": {
  "kernelspec": {
   "display_name": "Python 3",
   "language": "python",
   "name": "python3"
  },
  "language_info": {
   "codemirror_mode": {
    "name": "ipython",
    "version": 3
   },
   "file_extension": ".py",
   "mimetype": "text/x-python",
   "name": "python",
   "nbconvert_exporter": "python",
   "pygments_lexer": "ipython3",
   "version": "3.6.1"
  }
 },
 "nbformat": 4,
 "nbformat_minor": 2
}
