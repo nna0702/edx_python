{
 "cells": [
  {
   "cell_type": "markdown",
   "metadata": {},
   "source": [
    "# Problem 1.3\n",
    "\n",
    "Assume s is a string of lower case characters.\n",
    "\n",
    "Write a program that prints the longest substring of s in which the letters occur in alphabetical order. "
   ]
  },
  {
   "cell_type": "code",
   "execution_count": 62,
   "metadata": {
    "collapsed": true
   },
   "outputs": [],
   "source": [
    "# Import \n",
    "import string"
   ]
  },
  {
   "cell_type": "code",
   "execution_count": 63,
   "metadata": {
    "collapsed": true
   },
   "outputs": [],
   "source": [
    "# Create a list of alphabets in alphabetical order\n",
    "alphabet = list(string.ascii_lowercase)"
   ]
  },
  {
   "cell_type": "code",
   "execution_count": 64,
   "metadata": {
    "collapsed": true
   },
   "outputs": [],
   "source": [
    "# Define a string\n",
    "s = 'azcbobobegghakl'\n",
    "string = list(s)"
   ]
  },
  {
   "cell_type": "code",
   "execution_count": 65,
   "metadata": {
    "collapsed": true
   },
   "outputs": [],
   "source": [
    "# Turn string into array of numbers that correspond to alphabetical order\n",
    "idx = []\n",
    "for i in range(0, len(string)):\n",
    "    k = [j for j in range(len(alphabet)) if alphabet[j] == string[i]][0]\n",
    "    idx.append(k)"
   ]
  },
  {
   "cell_type": "code",
   "execution_count": 66,
   "metadata": {
    "collapsed": true
   },
   "outputs": [],
   "source": [
    "# Create lists of numbers with ascending order\n",
    "\n",
    "output = []\n",
    "outputTemp = []\n",
    "\n",
    "outputTemp.append(idx[0])\n",
    "\n",
    "for i in range(1, len(idx)):\n",
    "    if idx[i] >= idx[i-1]:\n",
    "        outputTemp.append(idx[i])\n",
    "    else:\n",
    "        output.append(outputTemp)\n",
    "        outputTemp = [idx[i]]\n",
    "\n",
    "output.append(outputTemp)"
   ]
  },
  {
   "cell_type": "code",
   "execution_count": 67,
   "metadata": {
    "collapsed": true
   },
   "outputs": [],
   "source": [
    "# Find list with the highest number of elements (longest string)\n",
    "str = max(output, key=len)"
   ]
  },
  {
   "cell_type": "code",
   "execution_count": 68,
   "metadata": {
    "collapsed": true
   },
   "outputs": [],
   "source": [
    "# Convert list into alphabets\n",
    "finOut = []\n",
    "\n",
    "for i in range(0, len(str)):\n",
    "    finOut.append(alphabet[str[i]])"
   ]
  },
  {
   "cell_type": "code",
   "execution_count": 69,
   "metadata": {
    "collapsed": true
   },
   "outputs": [],
   "source": [
    "# Concatenate alphabets into a string\n",
    "finOut = ''.join(finOut)"
   ]
  },
  {
   "cell_type": "code",
   "execution_count": 70,
   "metadata": {},
   "outputs": [
    {
     "name": "stdout",
     "output_type": "stream",
     "text": [
      "Longest substring in alphabetical order is: beggh\n"
     ]
    }
   ],
   "source": [
    "print(\"Longest substring in alphabetical order is: \" + finOut)"
   ]
  },
  {
   "cell_type": "code",
   "execution_count": 71,
   "metadata": {},
   "outputs": [
    {
     "name": "stdout",
     "output_type": "stream",
     "text": [
      "Longest substring in alphabetical order is: beggh\n"
     ]
    }
   ],
   "source": [
    "# # Paste your code into this box \n",
    "# import string\n",
    "\n",
    "# # Create a list of alphabets in alphabetical order\n",
    "# alphabet = list(string.ascii_lowercase)\n",
    "\n",
    "# # Define a string\n",
    "# string = list(s)\n",
    "\n",
    "# # Turn string into array of numbers that correspond to alphabetical order\n",
    "# idx = []\n",
    "# for i in range(0, len(string)):\n",
    "#     k = [j for j in range(len(alphabet)) if alphabet[j] == string[i]][0]\n",
    "#     idx.append(k)\n",
    "    \n",
    "#  # Create lists of numbers with ascending order\n",
    "\n",
    "# output = []\n",
    "# outputTemp = []\n",
    "\n",
    "# outputTemp.append(idx[0])\n",
    "\n",
    "# for i in range(1, len(idx)):\n",
    "#     if idx[i] >= idx[i-1]:\n",
    "#         outputTemp.append(idx[i])\n",
    "#     else:\n",
    "#         output.append(outputTemp)\n",
    "#         outputTemp = [idx[i]]\n",
    "\n",
    "# output.append(outputTemp)\n",
    "\n",
    "# # Find list with the highest number of elements (longest string)\n",
    "# str = max(output, key=len)\n",
    "\n",
    "# # Convert list into alphabets\n",
    "# finOut = []\n",
    "\n",
    "# for i in range(0, len(str)):\n",
    "#     finOut.append(alphabet[str[i]])\n",
    "    \n",
    "# # Concatenate alphabets into a string\n",
    "# finOut = ''.join(finOut)\n",
    "\n",
    "# print(\"Longest substring in alphabetical order is: \" + finOut)"
   ]
  }
 ],
 "metadata": {
  "kernelspec": {
   "display_name": "Python 3",
   "language": "python",
   "name": "python3"
  },
  "language_info": {
   "codemirror_mode": {
    "name": "ipython",
    "version": 3
   },
   "file_extension": ".py",
   "mimetype": "text/x-python",
   "name": "python",
   "nbconvert_exporter": "python",
   "pygments_lexer": "ipython3",
   "version": "3.6.1"
  }
 },
 "nbformat": 4,
 "nbformat_minor": 2
}
