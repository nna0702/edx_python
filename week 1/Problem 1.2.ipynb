{
 "cells": [
  {
   "cell_type": "markdown",
   "metadata": {},
   "source": [
    "# Problem 1.2\n",
    "\n",
    "Assume s is a string of lower case characters.\n",
    "\n",
    "Write a program that prints the number of times the string 'bob' occurs in s. "
   ]
  },
  {
   "cell_type": "code",
   "execution_count": 20,
   "metadata": {
    "collapsed": true
   },
   "outputs": [],
   "source": [
    "# Define special string\n",
    "special = 'bob'"
   ]
  },
  {
   "cell_type": "code",
   "execution_count": 21,
   "metadata": {
    "collapsed": true
   },
   "outputs": [],
   "source": [
    "# Define string\n",
    "s = 'obobowkbbobobobbobmbobbobbpbobobwbobbo'"
   ]
  },
  {
   "cell_type": "code",
   "execution_count": 22,
   "metadata": {
    "collapsed": true
   },
   "outputs": [],
   "source": [
    "# Split string into list\n",
    "string = list(s)"
   ]
  },
  {
   "cell_type": "code",
   "execution_count": 23,
   "metadata": {},
   "outputs": [
    {
     "name": "stdout",
     "output_type": "stream",
     "text": [
      "[1, 8, 10, 12, 15, 19, 22, 27, 29, 33]\n"
     ]
    }
   ],
   "source": [
    "# List the starting point of 'bob' in string\n",
    "output = []\n",
    "for i in range(0, len(string)-2):\n",
    "    concat = string[i] + string[i+1] + string[i+2]\n",
    "    if concat == special:\n",
    "        output.append(i)\n",
    "print(output)"
   ]
  },
  {
   "cell_type": "code",
   "execution_count": 24,
   "metadata": {
    "collapsed": true
   },
   "outputs": [],
   "source": [
    "# Count number of times 'bob' occurs\n",
    "num = len(output)"
   ]
  },
  {
   "cell_type": "code",
   "execution_count": 25,
   "metadata": {
    "collapsed": true
   },
   "outputs": [],
   "source": [
    "# Turn num into string to print\n",
    "num = str(num)"
   ]
  },
  {
   "cell_type": "code",
   "execution_count": 26,
   "metadata": {},
   "outputs": [
    {
     "name": "stdout",
     "output_type": "stream",
     "text": [
      "Number of times bob occurs is: 10\n"
     ]
    }
   ],
   "source": [
    "# Print output\n",
    "print(\"Number of times bob occurs is: \" + num)"
   ]
  },
  {
   "cell_type": "code",
   "execution_count": 19,
   "metadata": {},
   "outputs": [
    {
     "name": "stdout",
     "output_type": "stream",
     "text": [
      "[1, 8, 10, 12, 15, 19, 22, 27, 29, 33]\n",
      "Number of times bob occurs is: 10\n"
     ]
    }
   ],
   "source": [
    "# # Paste your code into this box \n",
    "# # Define special string\n",
    "# special = 'bob'\n",
    "\n",
    "# # Split string into list\n",
    "# string = list(s)\n",
    "\n",
    "# # List the starting point of 'bob' in string\n",
    "# output = []\n",
    "# for i in range(0, len(string)-2):\n",
    "#     concat = string[i] + string[i+1] + string[i+2]\n",
    "#     if concat == special:\n",
    "#         output.append(i)\n",
    "\n",
    "# # Count number of times 'bob' occurs\n",
    "# num = len(output)\n",
    "\n",
    "# # Turn num into string to print\n",
    "# num = str(num)\n",
    "\n",
    "# # Print output\n",
    "# print(\"Number of times bob occurs is: \" + num)"
   ]
  },
  {
   "cell_type": "code",
   "execution_count": null,
   "metadata": {
    "collapsed": true
   },
   "outputs": [],
   "source": []
  }
 ],
 "metadata": {
  "kernelspec": {
   "display_name": "Python 3",
   "language": "python",
   "name": "python3"
  },
  "language_info": {
   "codemirror_mode": {
    "name": "ipython",
    "version": 3
   },
   "file_extension": ".py",
   "mimetype": "text/x-python",
   "name": "python",
   "nbconvert_exporter": "python",
   "pygments_lexer": "ipython3",
   "version": "3.6.1"
  }
 },
 "nbformat": 4,
 "nbformat_minor": 2
}
